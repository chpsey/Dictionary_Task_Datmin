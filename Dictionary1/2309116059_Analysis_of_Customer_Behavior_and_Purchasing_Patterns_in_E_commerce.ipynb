{
  "cells": [
    {
      "cell_type": "markdown",
      "metadata": {
        "id": "qiy_bs8EPhrK"
      },
      "source": [
        "#**BUSSINESS UNDERSTANDING**"
      ]
    },
    {
      "cell_type": "markdown",
      "metadata": {
        "id": "ddYjW5SWPqdQ"
      },
      "source": [
        "##**Bussiness Objective**"
      ]
    },
    {
      "cell_type": "markdown",
      "metadata": {
        "id": "MOgbigvVPltF"
      },
      "source": [
        "\n",
        "\n",
        "Tujuan utama dari proyek ini adalah untuk memahami faktor-faktor yang mempengaruhi perilaku pelanggan dan pola pembelian mereka di sektor e-commerce. Dengan menganalisis data pelanggan yang ada, perusahaan e-commerce dapat mengidentifikasi pola-pola yang signifikan dalam perilaku belanja dan preferensi pelanggan. Hasil analisis ini diharapkan dapat digunakan untuk meningkatkan pengalaman pelanggan, mempersonalisasi penawaran, dan memperbaiki strategi pemasaran guna meningkatkan tingkat konversi serta retensi pelanggan. Selain itu, model yang dikembangkan dapat membantu dalam merancang penawaran produk yang lebih relevan dan meningkatkan kepuasan pelanggan."
      ]
    },
    {
      "cell_type": "markdown",
      "metadata": {
        "id": "Uq772uJHP0j4"
      },
      "source": [
        "##**Assess Situation**"
      ]
    },
    {
      "cell_type": "markdown",
      "metadata": {
        "id": "BDRyLc5AP4GE"
      },
      "source": [
        "Situasi bisnis yang mendasari analisis ini adalah meningkatnya kompetisi di industri e-commerce dengan pelanggan yang semakin cerdas dan memiliki ekspektasi tinggi terhadap layanan dan produk yang mereka beli. Banyak  tantangan dalam memprediksi produk yang akan dibeli oleh pelanggan serta bagaimana cara meningkatkan engagement pelanggan yang sudah ada. Dengan informasi yang lebih baik mengenai perilaku pembelian dan preferensi pelanggan, perusahaan dapat memanfaatkan data untuk meningkatkan targeting, personalisasi,promosi, dan meningkatkan retensi pelanggan. Hal ini akan membantu perusahaan untuk tetap kompetitif di pasar yang sangat dinamis ini."
      ]
    },
    {
      "cell_type": "markdown",
      "metadata": {
        "id": "9WiyuFLaP8SO"
      },
      "source": [
        "##**Data Mining Goals**"
      ]
    },
    {
      "cell_type": "markdown",
      "metadata": {
        "id": "okoeykjVQAn5"
      },
      "source": [
        "Analisis dimulai dengan pencarian pola transaksi menggunakan market basket analysis untuk mengidentifikasi produk yang sering dibeli bersamaan dan waktu belanja aktif. Klasifikasi (misal: Decision Tree) dipakai untuk memprediksi kecenderungan pembelian berdasarkan riwayat kunjungan, sementara segmentasi pelanggan dengan RFM Analysis (Recency, Frequency, Monetary) mengelompokkan pelanggan ke kategori seperti Loyal Buyers atau Inactive Users. Analisis tren sederhana (grafik time-series) membantu prediksi stok produk potensial, dan sistem rekomendasi dasar (collaborative filtering) meningkatkan personalisasi. Deteksi outlier pada transaksi dilakukan dengan teknik statistik sederhana (misal: Z-score). Tujuan utamanya adalah ekstraksi pola belanja, prediksi kebutuhan pelanggan, dan optimasi strategi bisnis melalui pendekatan data mining yang simpel namun terukur."
      ]
    },
    {
      "cell_type": "markdown",
      "metadata": {
        "id": "iHjz86IxQEuS"
      },
      "source": [
        "##**Project Plan**"
      ]
    },
    {
      "cell_type": "markdown",
      "metadata": {
        "id": "s37eydlcQIjS"
      },
      "source": [
        "Proyek ini bertujuan untuk memahami pola belanja pelanggan dan memprediksi kebutuhan mereka melalui analisis data. Dimulai dengan pengumpulan dan pembersihan data pelanggan dan transaksi, dilanjutkan dengan eksplorasi karakteristik dataset, seperti frekuensi pembelian. Penggunaan market basket analysis untuk menemukan keterkaitan produk, teknik klasifikasi seperti Decision Tree untuk memprediksi kecenderungan pembelian, dan RFM Analysis untuk segmentasi pelanggan dilakukan. Analisis tren dengan grafik time-series membantu prediksi stok produk, sementara sistem rekomendasi berbasis collaborative filtering meningkatkan personalisasi. Deteksi outlier juga dilakukan untuk menjaga integritas data. Dengan semua analisis ini, proyek ini bertujuan mengoptimalkan strategi bisnis, meningkatkan kepuasan pelanggan, dan mencegah churn melalui model prediktif yang dihasilkan."
      ]
    }
  ],
  "metadata": {
    "colab": {
      "provenance": []
    },
    "kernelspec": {
      "display_name": "Python 3",
      "name": "python3"
    },
    "language_info": {
      "name": "python"
    }
  },
  "nbformat": 4,
  "nbformat_minor": 0
}
