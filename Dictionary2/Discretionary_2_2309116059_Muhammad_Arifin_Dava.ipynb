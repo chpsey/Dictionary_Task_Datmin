{
  "nbformat": 4,
  "nbformat_minor": 0,
  "metadata": {
    "colab": {
      "provenance": [],
      "collapsed_sections": [
        "AeFXwnWnouZv"
      ]
    },
    "kernelspec": {
      "name": "python3",
      "display_name": "Python 3"
    },
    "language_info": {
      "name": "python"
    }
  },
  "cells": [
    {
      "cell_type": "markdown",
      "source": [
        "# **JUDUL ANALISIS**"
      ],
      "metadata": {
        "id": "w7Iwnt8akI7d"
      }
    },
    {
      "cell_type": "markdown",
      "source": [
        "**Analysis of Customer Behavior and Purchasing Patterns in E-commerce**"
      ],
      "metadata": {
        "id": "uG7_JQcikQEP"
      }
    },
    {
      "cell_type": "markdown",
      "source": [
        "### **Studi Kasus**"
      ],
      "metadata": {
        "id": "AeFXwnWnouZv"
      }
    },
    {
      "cell_type": "markdown",
      "source": [
        "Perusahaan e-commerce NusantaraMart di Indonesia menghadapi stagnasi pertumbuhan penjualan meskipun telah melakukan berbagai upaya promosi. Untuk mengatasi hal ini, tim manajemen berfokus pada analisis perilaku pelanggan dan pola pembelian guna meningkatkan strategi pemasaran, retensi pelanggan, dan konversi penjualan. Studi ini bertujuan mengidentifikasi segmentasi pelanggan berdasarkan karakteristik demografi, frekuensi pembelian, dan nilai transaksi, serta memahami pola pembelian seperti preferensi waktu belanja, kategori produk yang diminati, dan respons terhadap diskon. Selain itu, analisis juga mengeksplorasi faktor pendorong keputusan pembelian, termasuk ulasan produk, metode pembayaran, dan penawaran pengiriman gratis. Data yang digunakan mencakup riwayat transaksi, informasi demografi pelanggan, dan catatan perilaku penjelajahan selama periode tertentu.\n",
        "\n",
        "Analisis dimulai dengan pemrosesan data untuk memastikan kualitas dan kesiapan data sebelum dieksplorasi lebih lanjut. Tahap eksplorasi data mengungkap tren seperti distribusi pembelian berdasarkan kategori produk, korelasi antara diskon dan peningkatan konversi, serta pola waktu belanja pelanggan. Analisis segmentasi pelanggan dilakukan dengan pendekatan RFM (Recency, Frequency, Monetary) dan teknik clustering untuk mengelompokkan pelanggan berdasarkan nilai dan risiko churn. Model prediktif kemudian dikembangkan untuk memproyeksikan kecenderungan pembelian ulang dan risiko pelanggan meninggalkan platform. Hasil studi memberikan rekomendasi strategis, seperti personalisasi promo berdasarkan profil pelanggan, pengoptimalan stok produk pada waktu tertentu, dan peningkatan program loyalitas untuk mempertahankan pelanggan berisiko. Dengan pendekatan ini, perusahaan diharapkan dapat meningkatkan kinerja bisnis melalui strategi yang lebih terarah dan berbasis data."
      ],
      "metadata": {
        "id": "Z6aa_QzNoz5h"
      }
    },
    {
      "cell_type": "markdown",
      "source": [
        "# **Import Library**"
      ],
      "metadata": {
        "id": "wQoAfrNRkasJ"
      }
    },
    {
      "cell_type": "code",
      "source": [
        "from google.colab import drive\n",
        "drive.mount('/content/drive')"
      ],
      "metadata": {
        "colab": {
          "base_uri": "https://localhost:8080/"
        },
        "id": "jOkqHWQltHQ3",
        "outputId": "c907f8d7-0025-4f55-9b59-2fe1f033d67b"
      },
      "execution_count": 1,
      "outputs": [
        {
          "output_type": "stream",
          "name": "stdout",
          "text": [
            "Mounted at /content/drive\n"
          ]
        }
      ]
    },
    {
      "cell_type": "code",
      "source": [
        "import pandas as pd\n",
        "import seaborn as sns\n",
        "import matplotlib.pyplot as plt"
      ],
      "metadata": {
        "id": "yBFrZCKbkinH"
      },
      "execution_count": 2,
      "outputs": []
    },
    {
      "cell_type": "markdown",
      "source": [
        "# **Business Understanding**"
      ],
      "metadata": {
        "id": "-OAX12-4kft8"
      }
    },
    {
      "cell_type": "markdown",
      "source": [
        "### **Business Objective**"
      ],
      "metadata": {
        "id": "T6m0MCF2kuAB"
      }
    },
    {
      "cell_type": "markdown",
      "source": [
        "\n",
        "\n",
        "Tujuan utama dari proyek ini adalah untuk memahami faktor-faktor yang mempengaruhi perilaku pelanggan dan pola pembelian mereka di sektor e-commerce. Dengan menganalisis data pelanggan yang ada, perusahaan e-commerce dapat mengidentifikasi pola-pola yang signifikan dalam perilaku belanja dan preferensi pelanggan. Hasil analisis ini diharapkan dapat digunakan untuk meningkatkan pengalaman pelanggan, mempersonalisasi penawaran, dan memperbaiki strategi pemasaran guna meningkatkan tingkat konversi serta retensi pelanggan. Selain itu, model yang dikembangkan dapat membantu dalam merancang penawaran produk yang lebih relevan dan meningkatkan kepuasan pelanggan."
      ],
      "metadata": {
        "id": "-pqe9PB3lJWz"
      }
    },
    {
      "cell_type": "markdown",
      "source": [
        "### **Assess Situation**"
      ],
      "metadata": {
        "id": "fh0AI7q_k1CO"
      }
    },
    {
      "cell_type": "markdown",
      "source": [
        "Situasi bisnis yang mendasari analisis ini adalah meningkatnya kompetisi di industri e-commerce dengan pelanggan yang semakin cerdas dan memiliki ekspektasi tinggi terhadap layanan dan produk yang mereka beli. Banyak  tantangan dalam memprediksi produk yang akan dibeli oleh pelanggan serta bagaimana cara meningkatkan engagement pelanggan yang sudah ada. Dengan informasi yang lebih baik mengenai perilaku pembelian dan preferensi pelanggan, perusahaan dapat memanfaatkan data untuk meningkatkan targeting, personalisasi,promosi, dan meningkatkan retensi pelanggan. Hal ini akan membantu perusahaan untuk tetap kompetitif di pasar yang sangat dinamis ini."
      ],
      "metadata": {
        "id": "CNUsbE89lV3L"
      }
    },
    {
      "cell_type": "markdown",
      "source": [
        "### **Data Mining Goals**"
      ],
      "metadata": {
        "id": "mAEWCGQuk6Vo"
      }
    },
    {
      "cell_type": "markdown",
      "source": [
        "Analisis dimulai dengan pencarian pola transaksi menggunakan market basket analysis untuk mengidentifikasi produk yang sering dibeli bersamaan dan waktu belanja aktif. Klasifikasi (misal: Decision Tree) dipakai untuk memprediksi kecenderungan pembelian berdasarkan riwayat kunjungan, sementara segmentasi pelanggan dengan RFM Analysis (Recency, Frequency, Monetary) mengelompokkan pelanggan ke kategori seperti Loyal Buyers atau Inactive Users. Analisis tren sederhana (grafik time-series) membantu prediksi stok produk potensial, dan sistem rekomendasi dasar (collaborative filtering) meningkatkan personalisasi. Deteksi outlier pada transaksi dilakukan dengan teknik statistik sederhana (misal: Z-score). Tujuan utamanya adalah ekstraksi pola belanja, prediksi kebutuhan pelanggan, dan optimasi strategi bisnis melalui pendekatan data mining yang simpel namun terukur."
      ],
      "metadata": {
        "id": "H_KIaJURlaEg"
      }
    },
    {
      "cell_type": "markdown",
      "source": [
        "### **Project Plan**"
      ],
      "metadata": {
        "id": "jDtWCsOnk9ca"
      }
    },
    {
      "cell_type": "markdown",
      "source": [
        "Proyek ini bertujuan untuk memahami pola belanja pelanggan dan memprediksi kebutuhan mereka melalui analisis data. Dimulai dengan pengumpulan dan pembersihan data pelanggan dan transaksi, dilanjutkan dengan eksplorasi karakteristik dataset, seperti frekuensi pembelian. Penggunaan market basket analysis untuk menemukan keterkaitan produk, teknik klasifikasi seperti Decision Tree untuk memprediksi kecenderungan pembelian, dan RFM Analysis untuk segmentasi pelanggan dilakukan. Analisis tren dengan grafik time-series membantu prediksi stok produk, sementara sistem rekomendasi berbasis collaborative filtering meningkatkan personalisasi. Deteksi outlier juga dilakukan untuk menjaga integritas data. Dengan semua analisis ini, proyek ini bertujuan mengoptimalkan strategi bisnis, meningkatkan kepuasan pelanggan, dan mencegah churn melalui model prediktif yang dihasilkan."
      ],
      "metadata": {
        "id": "eI8erOVSleB4"
      }
    },
    {
      "cell_type": "markdown",
      "source": [
        "# **Data Understanding**"
      ],
      "metadata": {
        "id": "ETNuMiIillz3"
      }
    },
    {
      "cell_type": "markdown",
      "source": [
        "### **Collect Initial Data**"
      ],
      "metadata": {
        "id": "7FR6lPtolodY"
      }
    },
    {
      "cell_type": "markdown",
      "source": [
        "Sumber dataset yang digunakan adalah berasal dari Kaggle (https://www.kaggle.com/datasets/uom190346a/e-commerce-customer-behavior-dataset) yang akan digunakan untuk menganalisis perilaku pelanggan dan pola pembelian dalam E-Commerce"
      ],
      "metadata": {
        "id": "jRVBGjiYl7zP"
      }
    },
    {
      "cell_type": "code",
      "source": [
        "filePath = \"/content/drive/MyDrive/Pandas/E-Commerce.csv\"\n",
        "df = pd.read_csv(filePath)\n",
        "df.head(7)"
      ],
      "metadata": {
        "id": "9ZIWPMQ-mCmB",
        "colab": {
          "base_uri": "https://localhost:8080/",
          "height": 321
        },
        "outputId": "2942eb03-a9e2-4710-dde5-724114a18d95"
      },
      "execution_count": 21,
      "outputs": [
        {
          "output_type": "execute_result",
          "data": {
            "text/plain": [
              "   Customer ID  Gender  Age           City Membership Type  Total Spend  \\\n",
              "0          101  Female   29       New York            Gold      1120.20   \n",
              "1          102    Male   34    Los Angeles          Silver       780.50   \n",
              "2          103  Female   43        Chicago          Bronze       510.75   \n",
              "3          104    Male   30  San Francisco            Gold      1480.30   \n",
              "4          105    Male   27          Miami          Silver       720.40   \n",
              "5          106  Female   37        Houston          Bronze       440.80   \n",
              "6          107  Female   31       New York            Gold      1150.60   \n",
              "\n",
              "   Items Purchased  Average Rating  Discount Applied  \\\n",
              "0               14             4.6              True   \n",
              "1               11             4.1             False   \n",
              "2                9             3.4              True   \n",
              "3               19             4.7             False   \n",
              "4               13             4.0              True   \n",
              "5                8             3.1             False   \n",
              "6               15             4.5              True   \n",
              "\n",
              "   Days Since Last Purchase Satisfaction Level  \n",
              "0                        25          Satisfied  \n",
              "1                        18            Neutral  \n",
              "2                        42        Unsatisfied  \n",
              "3                        12          Satisfied  \n",
              "4                        55        Unsatisfied  \n",
              "5                        22            Neutral  \n",
              "6                        28          Satisfied  "
            ],
            "text/html": [
              "\n",
              "  <div id=\"df-93bece00-3d8c-4281-a65d-893397cabd4b\" class=\"colab-df-container\">\n",
              "    <div>\n",
              "<style scoped>\n",
              "    .dataframe tbody tr th:only-of-type {\n",
              "        vertical-align: middle;\n",
              "    }\n",
              "\n",
              "    .dataframe tbody tr th {\n",
              "        vertical-align: top;\n",
              "    }\n",
              "\n",
              "    .dataframe thead th {\n",
              "        text-align: right;\n",
              "    }\n",
              "</style>\n",
              "<table border=\"1\" class=\"dataframe\">\n",
              "  <thead>\n",
              "    <tr style=\"text-align: right;\">\n",
              "      <th></th>\n",
              "      <th>Customer ID</th>\n",
              "      <th>Gender</th>\n",
              "      <th>Age</th>\n",
              "      <th>City</th>\n",
              "      <th>Membership Type</th>\n",
              "      <th>Total Spend</th>\n",
              "      <th>Items Purchased</th>\n",
              "      <th>Average Rating</th>\n",
              "      <th>Discount Applied</th>\n",
              "      <th>Days Since Last Purchase</th>\n",
              "      <th>Satisfaction Level</th>\n",
              "    </tr>\n",
              "  </thead>\n",
              "  <tbody>\n",
              "    <tr>\n",
              "      <th>0</th>\n",
              "      <td>101</td>\n",
              "      <td>Female</td>\n",
              "      <td>29</td>\n",
              "      <td>New York</td>\n",
              "      <td>Gold</td>\n",
              "      <td>1120.20</td>\n",
              "      <td>14</td>\n",
              "      <td>4.6</td>\n",
              "      <td>True</td>\n",
              "      <td>25</td>\n",
              "      <td>Satisfied</td>\n",
              "    </tr>\n",
              "    <tr>\n",
              "      <th>1</th>\n",
              "      <td>102</td>\n",
              "      <td>Male</td>\n",
              "      <td>34</td>\n",
              "      <td>Los Angeles</td>\n",
              "      <td>Silver</td>\n",
              "      <td>780.50</td>\n",
              "      <td>11</td>\n",
              "      <td>4.1</td>\n",
              "      <td>False</td>\n",
              "      <td>18</td>\n",
              "      <td>Neutral</td>\n",
              "    </tr>\n",
              "    <tr>\n",
              "      <th>2</th>\n",
              "      <td>103</td>\n",
              "      <td>Female</td>\n",
              "      <td>43</td>\n",
              "      <td>Chicago</td>\n",
              "      <td>Bronze</td>\n",
              "      <td>510.75</td>\n",
              "      <td>9</td>\n",
              "      <td>3.4</td>\n",
              "      <td>True</td>\n",
              "      <td>42</td>\n",
              "      <td>Unsatisfied</td>\n",
              "    </tr>\n",
              "    <tr>\n",
              "      <th>3</th>\n",
              "      <td>104</td>\n",
              "      <td>Male</td>\n",
              "      <td>30</td>\n",
              "      <td>San Francisco</td>\n",
              "      <td>Gold</td>\n",
              "      <td>1480.30</td>\n",
              "      <td>19</td>\n",
              "      <td>4.7</td>\n",
              "      <td>False</td>\n",
              "      <td>12</td>\n",
              "      <td>Satisfied</td>\n",
              "    </tr>\n",
              "    <tr>\n",
              "      <th>4</th>\n",
              "      <td>105</td>\n",
              "      <td>Male</td>\n",
              "      <td>27</td>\n",
              "      <td>Miami</td>\n",
              "      <td>Silver</td>\n",
              "      <td>720.40</td>\n",
              "      <td>13</td>\n",
              "      <td>4.0</td>\n",
              "      <td>True</td>\n",
              "      <td>55</td>\n",
              "      <td>Unsatisfied</td>\n",
              "    </tr>\n",
              "    <tr>\n",
              "      <th>5</th>\n",
              "      <td>106</td>\n",
              "      <td>Female</td>\n",
              "      <td>37</td>\n",
              "      <td>Houston</td>\n",
              "      <td>Bronze</td>\n",
              "      <td>440.80</td>\n",
              "      <td>8</td>\n",
              "      <td>3.1</td>\n",
              "      <td>False</td>\n",
              "      <td>22</td>\n",
              "      <td>Neutral</td>\n",
              "    </tr>\n",
              "    <tr>\n",
              "      <th>6</th>\n",
              "      <td>107</td>\n",
              "      <td>Female</td>\n",
              "      <td>31</td>\n",
              "      <td>New York</td>\n",
              "      <td>Gold</td>\n",
              "      <td>1150.60</td>\n",
              "      <td>15</td>\n",
              "      <td>4.5</td>\n",
              "      <td>True</td>\n",
              "      <td>28</td>\n",
              "      <td>Satisfied</td>\n",
              "    </tr>\n",
              "  </tbody>\n",
              "</table>\n",
              "</div>\n",
              "    <div class=\"colab-df-buttons\">\n",
              "\n",
              "  <div class=\"colab-df-container\">\n",
              "    <button class=\"colab-df-convert\" onclick=\"convertToInteractive('df-93bece00-3d8c-4281-a65d-893397cabd4b')\"\n",
              "            title=\"Convert this dataframe to an interactive table.\"\n",
              "            style=\"display:none;\">\n",
              "\n",
              "  <svg xmlns=\"http://www.w3.org/2000/svg\" height=\"24px\" viewBox=\"0 -960 960 960\">\n",
              "    <path d=\"M120-120v-720h720v720H120Zm60-500h600v-160H180v160Zm220 220h160v-160H400v160Zm0 220h160v-160H400v160ZM180-400h160v-160H180v160Zm440 0h160v-160H620v160ZM180-180h160v-160H180v160Zm440 0h160v-160H620v160Z\"/>\n",
              "  </svg>\n",
              "    </button>\n",
              "\n",
              "  <style>\n",
              "    .colab-df-container {\n",
              "      display:flex;\n",
              "      gap: 12px;\n",
              "    }\n",
              "\n",
              "    .colab-df-convert {\n",
              "      background-color: #E8F0FE;\n",
              "      border: none;\n",
              "      border-radius: 50%;\n",
              "      cursor: pointer;\n",
              "      display: none;\n",
              "      fill: #1967D2;\n",
              "      height: 32px;\n",
              "      padding: 0 0 0 0;\n",
              "      width: 32px;\n",
              "    }\n",
              "\n",
              "    .colab-df-convert:hover {\n",
              "      background-color: #E2EBFA;\n",
              "      box-shadow: 0px 1px 2px rgba(60, 64, 67, 0.3), 0px 1px 3px 1px rgba(60, 64, 67, 0.15);\n",
              "      fill: #174EA6;\n",
              "    }\n",
              "\n",
              "    .colab-df-buttons div {\n",
              "      margin-bottom: 4px;\n",
              "    }\n",
              "\n",
              "    [theme=dark] .colab-df-convert {\n",
              "      background-color: #3B4455;\n",
              "      fill: #D2E3FC;\n",
              "    }\n",
              "\n",
              "    [theme=dark] .colab-df-convert:hover {\n",
              "      background-color: #434B5C;\n",
              "      box-shadow: 0px 1px 3px 1px rgba(0, 0, 0, 0.15);\n",
              "      filter: drop-shadow(0px 1px 2px rgba(0, 0, 0, 0.3));\n",
              "      fill: #FFFFFF;\n",
              "    }\n",
              "  </style>\n",
              "\n",
              "    <script>\n",
              "      const buttonEl =\n",
              "        document.querySelector('#df-93bece00-3d8c-4281-a65d-893397cabd4b button.colab-df-convert');\n",
              "      buttonEl.style.display =\n",
              "        google.colab.kernel.accessAllowed ? 'block' : 'none';\n",
              "\n",
              "      async function convertToInteractive(key) {\n",
              "        const element = document.querySelector('#df-93bece00-3d8c-4281-a65d-893397cabd4b');\n",
              "        const dataTable =\n",
              "          await google.colab.kernel.invokeFunction('convertToInteractive',\n",
              "                                                    [key], {});\n",
              "        if (!dataTable) return;\n",
              "\n",
              "        const docLinkHtml = 'Like what you see? Visit the ' +\n",
              "          '<a target=\"_blank\" href=https://colab.research.google.com/notebooks/data_table.ipynb>data table notebook</a>'\n",
              "          + ' to learn more about interactive tables.';\n",
              "        element.innerHTML = '';\n",
              "        dataTable['output_type'] = 'display_data';\n",
              "        await google.colab.output.renderOutput(dataTable, element);\n",
              "        const docLink = document.createElement('div');\n",
              "        docLink.innerHTML = docLinkHtml;\n",
              "        element.appendChild(docLink);\n",
              "      }\n",
              "    </script>\n",
              "  </div>\n",
              "\n",
              "\n",
              "<div id=\"df-4cecd188-ec79-48aa-8657-1d3009efde70\">\n",
              "  <button class=\"colab-df-quickchart\" onclick=\"quickchart('df-4cecd188-ec79-48aa-8657-1d3009efde70')\"\n",
              "            title=\"Suggest charts\"\n",
              "            style=\"display:none;\">\n",
              "\n",
              "<svg xmlns=\"http://www.w3.org/2000/svg\" height=\"24px\"viewBox=\"0 0 24 24\"\n",
              "     width=\"24px\">\n",
              "    <g>\n",
              "        <path d=\"M19 3H5c-1.1 0-2 .9-2 2v14c0 1.1.9 2 2 2h14c1.1 0 2-.9 2-2V5c0-1.1-.9-2-2-2zM9 17H7v-7h2v7zm4 0h-2V7h2v10zm4 0h-2v-4h2v4z\"/>\n",
              "    </g>\n",
              "</svg>\n",
              "  </button>\n",
              "\n",
              "<style>\n",
              "  .colab-df-quickchart {\n",
              "      --bg-color: #E8F0FE;\n",
              "      --fill-color: #1967D2;\n",
              "      --hover-bg-color: #E2EBFA;\n",
              "      --hover-fill-color: #174EA6;\n",
              "      --disabled-fill-color: #AAA;\n",
              "      --disabled-bg-color: #DDD;\n",
              "  }\n",
              "\n",
              "  [theme=dark] .colab-df-quickchart {\n",
              "      --bg-color: #3B4455;\n",
              "      --fill-color: #D2E3FC;\n",
              "      --hover-bg-color: #434B5C;\n",
              "      --hover-fill-color: #FFFFFF;\n",
              "      --disabled-bg-color: #3B4455;\n",
              "      --disabled-fill-color: #666;\n",
              "  }\n",
              "\n",
              "  .colab-df-quickchart {\n",
              "    background-color: var(--bg-color);\n",
              "    border: none;\n",
              "    border-radius: 50%;\n",
              "    cursor: pointer;\n",
              "    display: none;\n",
              "    fill: var(--fill-color);\n",
              "    height: 32px;\n",
              "    padding: 0;\n",
              "    width: 32px;\n",
              "  }\n",
              "\n",
              "  .colab-df-quickchart:hover {\n",
              "    background-color: var(--hover-bg-color);\n",
              "    box-shadow: 0 1px 2px rgba(60, 64, 67, 0.3), 0 1px 3px 1px rgba(60, 64, 67, 0.15);\n",
              "    fill: var(--button-hover-fill-color);\n",
              "  }\n",
              "\n",
              "  .colab-df-quickchart-complete:disabled,\n",
              "  .colab-df-quickchart-complete:disabled:hover {\n",
              "    background-color: var(--disabled-bg-color);\n",
              "    fill: var(--disabled-fill-color);\n",
              "    box-shadow: none;\n",
              "  }\n",
              "\n",
              "  .colab-df-spinner {\n",
              "    border: 2px solid var(--fill-color);\n",
              "    border-color: transparent;\n",
              "    border-bottom-color: var(--fill-color);\n",
              "    animation:\n",
              "      spin 1s steps(1) infinite;\n",
              "  }\n",
              "\n",
              "  @keyframes spin {\n",
              "    0% {\n",
              "      border-color: transparent;\n",
              "      border-bottom-color: var(--fill-color);\n",
              "      border-left-color: var(--fill-color);\n",
              "    }\n",
              "    20% {\n",
              "      border-color: transparent;\n",
              "      border-left-color: var(--fill-color);\n",
              "      border-top-color: var(--fill-color);\n",
              "    }\n",
              "    30% {\n",
              "      border-color: transparent;\n",
              "      border-left-color: var(--fill-color);\n",
              "      border-top-color: var(--fill-color);\n",
              "      border-right-color: var(--fill-color);\n",
              "    }\n",
              "    40% {\n",
              "      border-color: transparent;\n",
              "      border-right-color: var(--fill-color);\n",
              "      border-top-color: var(--fill-color);\n",
              "    }\n",
              "    60% {\n",
              "      border-color: transparent;\n",
              "      border-right-color: var(--fill-color);\n",
              "    }\n",
              "    80% {\n",
              "      border-color: transparent;\n",
              "      border-right-color: var(--fill-color);\n",
              "      border-bottom-color: var(--fill-color);\n",
              "    }\n",
              "    90% {\n",
              "      border-color: transparent;\n",
              "      border-bottom-color: var(--fill-color);\n",
              "    }\n",
              "  }\n",
              "</style>\n",
              "\n",
              "  <script>\n",
              "    async function quickchart(key) {\n",
              "      const quickchartButtonEl =\n",
              "        document.querySelector('#' + key + ' button');\n",
              "      quickchartButtonEl.disabled = true;  // To prevent multiple clicks.\n",
              "      quickchartButtonEl.classList.add('colab-df-spinner');\n",
              "      try {\n",
              "        const charts = await google.colab.kernel.invokeFunction(\n",
              "            'suggestCharts', [key], {});\n",
              "      } catch (error) {\n",
              "        console.error('Error during call to suggestCharts:', error);\n",
              "      }\n",
              "      quickchartButtonEl.classList.remove('colab-df-spinner');\n",
              "      quickchartButtonEl.classList.add('colab-df-quickchart-complete');\n",
              "    }\n",
              "    (() => {\n",
              "      let quickchartButtonEl =\n",
              "        document.querySelector('#df-4cecd188-ec79-48aa-8657-1d3009efde70 button');\n",
              "      quickchartButtonEl.style.display =\n",
              "        google.colab.kernel.accessAllowed ? 'block' : 'none';\n",
              "    })();\n",
              "  </script>\n",
              "</div>\n",
              "\n",
              "    </div>\n",
              "  </div>\n"
            ],
            "application/vnd.google.colaboratory.intrinsic+json": {
              "type": "dataframe",
              "variable_name": "df",
              "summary": "{\n  \"name\": \"df\",\n  \"rows\": 350,\n  \"fields\": [\n    {\n      \"column\": \"Customer ID\",\n      \"properties\": {\n        \"dtype\": \"number\",\n        \"std\": 101,\n        \"min\": 101,\n        \"max\": 450,\n        \"num_unique_values\": 350,\n        \"samples\": [\n          258,\n          442,\n          416\n        ],\n        \"semantic_type\": \"\",\n        \"description\": \"\"\n      }\n    },\n    {\n      \"column\": \"Gender\",\n      \"properties\": {\n        \"dtype\": \"category\",\n        \"num_unique_values\": 2,\n        \"samples\": [\n          \"Male\",\n          \"Female\"\n        ],\n        \"semantic_type\": \"\",\n        \"description\": \"\"\n      }\n    },\n    {\n      \"column\": \"Age\",\n      \"properties\": {\n        \"dtype\": \"number\",\n        \"std\": 4,\n        \"min\": 26,\n        \"max\": 43,\n        \"num_unique_values\": 16,\n        \"samples\": [\n          29,\n          34\n        ],\n        \"semantic_type\": \"\",\n        \"description\": \"\"\n      }\n    },\n    {\n      \"column\": \"City\",\n      \"properties\": {\n        \"dtype\": \"category\",\n        \"num_unique_values\": 6,\n        \"samples\": [\n          \"New York\",\n          \"Los Angeles\"\n        ],\n        \"semantic_type\": \"\",\n        \"description\": \"\"\n      }\n    },\n    {\n      \"column\": \"Membership Type\",\n      \"properties\": {\n        \"dtype\": \"category\",\n        \"num_unique_values\": 3,\n        \"samples\": [\n          \"Gold\",\n          \"Silver\"\n        ],\n        \"semantic_type\": \"\",\n        \"description\": \"\"\n      }\n    },\n    {\n      \"column\": \"Total Spend\",\n      \"properties\": {\n        \"dtype\": \"number\",\n        \"std\": 362.05869534746563,\n        \"min\": 410.8,\n        \"max\": 1520.1,\n        \"num_unique_values\": 76,\n        \"samples\": [\n          720.4,\n          440.9\n        ],\n        \"semantic_type\": \"\",\n        \"description\": \"\"\n      }\n    },\n    {\n      \"column\": \"Items Purchased\",\n      \"properties\": {\n        \"dtype\": \"number\",\n        \"std\": 4,\n        \"min\": 7,\n        \"max\": 21,\n        \"num_unique_values\": 15,\n        \"samples\": [\n          21,\n          16\n        ],\n        \"semantic_type\": \"\",\n        \"description\": \"\"\n      }\n    },\n    {\n      \"column\": \"Average Rating\",\n      \"properties\": {\n        \"dtype\": \"number\",\n        \"std\": 0.580538587146968,\n        \"min\": 3.0,\n        \"max\": 4.9,\n        \"num_unique_values\": 20,\n        \"samples\": [\n          4.6,\n          3.0\n        ],\n        \"semantic_type\": \"\",\n        \"description\": \"\"\n      }\n    },\n    {\n      \"column\": \"Discount Applied\",\n      \"properties\": {\n        \"dtype\": \"boolean\",\n        \"num_unique_values\": 2,\n        \"samples\": [\n          false,\n          true\n        ],\n        \"semantic_type\": \"\",\n        \"description\": \"\"\n      }\n    },\n    {\n      \"column\": \"Days Since Last Purchase\",\n      \"properties\": {\n        \"dtype\": \"number\",\n        \"std\": 13,\n        \"min\": 9,\n        \"max\": 63,\n        \"num_unique_values\": 54,\n        \"samples\": [\n          41,\n          60\n        ],\n        \"semantic_type\": \"\",\n        \"description\": \"\"\n      }\n    },\n    {\n      \"column\": \"Satisfaction Level\",\n      \"properties\": {\n        \"dtype\": \"category\",\n        \"num_unique_values\": 3,\n        \"samples\": [\n          \"Satisfied\",\n          \"Neutral\"\n        ],\n        \"semantic_type\": \"\",\n        \"description\": \"\"\n      }\n    }\n  ]\n}"
            }
          },
          "metadata": {},
          "execution_count": 21
        }
      ]
    },
    {
      "cell_type": "markdown",
      "source": [
        "### **Describe Data**"
      ],
      "metadata": {
        "id": "14JXxQCWlulT"
      }
    },
    {
      "cell_type": "markdown",
      "source": [
        "##### **Informasi Dasar**"
      ],
      "metadata": {
        "id": "72dQQaDhmG5J"
      }
    },
    {
      "cell_type": "code",
      "source": [
        "print(\"Jumlah baris dan kolom yang terdapat pada dataset adalah :\",df.shape)"
      ],
      "metadata": {
        "id": "12a5CoaSmMu8",
        "colab": {
          "base_uri": "https://localhost:8080/"
        },
        "outputId": "3a56f333-fa2b-434c-c8f8-633b16afb43b"
      },
      "execution_count": 22,
      "outputs": [
        {
          "output_type": "stream",
          "name": "stdout",
          "text": [
            "Jumlah baris dan kolom yang terdapat pada dataset adalah : (350, 11)\n"
          ]
        }
      ]
    },
    {
      "cell_type": "markdown",
      "source": [
        "Berikut adalah informasi detail terkait baris dan kolom yang terdapat pada dataset yaitu terdapat 350 baris dan 11 kolom :\n",
        "\n",
        "A. Kolom dalam Dataset :\n",
        "Customer ID: Identifikasi unik untuk setiap pelanggan.\n",
        "Gender: Jenis kelamin pelanggan (Male/Female).\n",
        "Age: Usia pelanggan.\n",
        "City: Kota tempat tinggal pelanggan.\n",
        "Membership Type: Tipe keanggotaan pelanggan (Gold, Silver, Bronze).\n",
        "Total Spend: Total pengeluaran pelanggan dalam satuan mata uang.\n",
        "Items Purchased: Jumlah item yang dibeli oleh pelanggan.\n",
        "Average Rating: Rata-rata penilaian yang diberikan oleh pelanggan.\n",
        "Discount Applied: Apakah diskon diterapkan pada pembelian (TRUE/FALSE).\n",
        "Days Since Last Purchase: Jumlah hari sejak pembelian terakhir.\n",
        "Satisfaction Level: Tingkat kepuasan pelanggan (Satisfied, Neutral, Unsatisfied).\n",
        "\n",
        "B. Baris dalam Dataset :\n",
        "Setiap baris dalam dataset mewakili satu entri pelanggan yang berisi informasi lengkap sesuai dengan kolom yang telah disebutkan. Misalnya, baris pertama memberikan informasi tentang pelanggan dengan ID 101, yang merupakan seorang wanita berusia 29 tahun dari New York dengan tipe keanggotaan Gold, total pengeluaran sebesar 1120.2, dan tingkat kepuasan \"Satisfied\"."
      ],
      "metadata": {
        "id": "ToNwuA9UmNi4"
      }
    },
    {
      "cell_type": "markdown",
      "source": [
        "##### **Informasi Lanjutan**"
      ],
      "metadata": {
        "id": "0s6K4zbqmRLv"
      }
    },
    {
      "cell_type": "code",
      "source": [
        "print(\"\\nMenampilkan ringkasan informasi dataset dengan df.info():\")\n",
        "df.info()"
      ],
      "metadata": {
        "id": "JswNGOdgmY-B",
        "colab": {
          "base_uri": "https://localhost:8080/"
        },
        "outputId": "1adc6355-ead1-420d-ad47-a80633757d6f"
      },
      "execution_count": 23,
      "outputs": [
        {
          "output_type": "stream",
          "name": "stdout",
          "text": [
            "\n",
            "Menampilkan ringkasan informasi dataset dengan df.info():\n",
            "<class 'pandas.core.frame.DataFrame'>\n",
            "RangeIndex: 350 entries, 0 to 349\n",
            "Data columns (total 11 columns):\n",
            " #   Column                    Non-Null Count  Dtype  \n",
            "---  ------                    --------------  -----  \n",
            " 0   Customer ID               350 non-null    int64  \n",
            " 1   Gender                    350 non-null    object \n",
            " 2   Age                       350 non-null    int64  \n",
            " 3   City                      350 non-null    object \n",
            " 4   Membership Type           350 non-null    object \n",
            " 5   Total Spend               350 non-null    float64\n",
            " 6   Items Purchased           350 non-null    int64  \n",
            " 7   Average Rating            350 non-null    float64\n",
            " 8   Discount Applied          350 non-null    bool   \n",
            " 9   Days Since Last Purchase  350 non-null    int64  \n",
            " 10  Satisfaction Level        348 non-null    object \n",
            "dtypes: bool(1), float64(2), int64(4), object(4)\n",
            "memory usage: 27.8+ KB\n"
          ]
        }
      ]
    },
    {
      "cell_type": "markdown",
      "source": [
        "Jangan lupa sertakan penjelasan tiap kolomnya di sini ya, dari nama kolom, berapa jumlahnya, dan tipe data dari kolom tersebut (Kalau kolomnya 10 ya di buat sampai nomor 10) (ganti aja tulisan ini)"
      ],
      "metadata": {
        "id": "S8NfIilMmT2w"
      }
    },
    {
      "cell_type": "markdown",
      "source": [
        "##### **Statistika Deskriptif**"
      ],
      "metadata": {
        "id": "j19xqY3lmbA8"
      }
    },
    {
      "cell_type": "code",
      "source": [
        "print(\"\\nMenampilkan statistik deskriptif dengan df.describe():\")\n",
        "df.describe()"
      ],
      "metadata": {
        "id": "Jf_SW58-meBQ",
        "colab": {
          "base_uri": "https://localhost:8080/",
          "height": 336
        },
        "outputId": "3d4084ee-5821-459b-b5c4-e56dc3800592"
      },
      "execution_count": 24,
      "outputs": [
        {
          "output_type": "stream",
          "name": "stdout",
          "text": [
            "\n",
            "Menampilkan statistik deskriptif dengan df.describe():\n"
          ]
        },
        {
          "output_type": "execute_result",
          "data": {
            "text/plain": [
              "       Customer ID         Age  Total Spend  Items Purchased  Average Rating  \\\n",
              "count   350.000000  350.000000   350.000000       350.000000      350.000000   \n",
              "mean    275.500000   33.597143   845.381714        12.600000        4.019143   \n",
              "std     101.180532    4.870882   362.058695         4.155984        0.580539   \n",
              "min     101.000000   26.000000   410.800000         7.000000        3.000000   \n",
              "25%     188.250000   30.000000   502.000000         9.000000        3.500000   \n",
              "50%     275.500000   32.500000   775.200000        12.000000        4.100000   \n",
              "75%     362.750000   37.000000  1160.600000        15.000000        4.500000   \n",
              "max     450.000000   43.000000  1520.100000        21.000000        4.900000   \n",
              "\n",
              "       Days Since Last Purchase  \n",
              "count                350.000000  \n",
              "mean                  26.588571  \n",
              "std                   13.440813  \n",
              "min                    9.000000  \n",
              "25%                   15.000000  \n",
              "50%                   23.000000  \n",
              "75%                   38.000000  \n",
              "max                   63.000000  "
            ],
            "text/html": [
              "\n",
              "  <div id=\"df-302ce80d-c170-49ef-be9b-c1ce4b9ae5f1\" class=\"colab-df-container\">\n",
              "    <div>\n",
              "<style scoped>\n",
              "    .dataframe tbody tr th:only-of-type {\n",
              "        vertical-align: middle;\n",
              "    }\n",
              "\n",
              "    .dataframe tbody tr th {\n",
              "        vertical-align: top;\n",
              "    }\n",
              "\n",
              "    .dataframe thead th {\n",
              "        text-align: right;\n",
              "    }\n",
              "</style>\n",
              "<table border=\"1\" class=\"dataframe\">\n",
              "  <thead>\n",
              "    <tr style=\"text-align: right;\">\n",
              "      <th></th>\n",
              "      <th>Customer ID</th>\n",
              "      <th>Age</th>\n",
              "      <th>Total Spend</th>\n",
              "      <th>Items Purchased</th>\n",
              "      <th>Average Rating</th>\n",
              "      <th>Days Since Last Purchase</th>\n",
              "    </tr>\n",
              "  </thead>\n",
              "  <tbody>\n",
              "    <tr>\n",
              "      <th>count</th>\n",
              "      <td>350.000000</td>\n",
              "      <td>350.000000</td>\n",
              "      <td>350.000000</td>\n",
              "      <td>350.000000</td>\n",
              "      <td>350.000000</td>\n",
              "      <td>350.000000</td>\n",
              "    </tr>\n",
              "    <tr>\n",
              "      <th>mean</th>\n",
              "      <td>275.500000</td>\n",
              "      <td>33.597143</td>\n",
              "      <td>845.381714</td>\n",
              "      <td>12.600000</td>\n",
              "      <td>4.019143</td>\n",
              "      <td>26.588571</td>\n",
              "    </tr>\n",
              "    <tr>\n",
              "      <th>std</th>\n",
              "      <td>101.180532</td>\n",
              "      <td>4.870882</td>\n",
              "      <td>362.058695</td>\n",
              "      <td>4.155984</td>\n",
              "      <td>0.580539</td>\n",
              "      <td>13.440813</td>\n",
              "    </tr>\n",
              "    <tr>\n",
              "      <th>min</th>\n",
              "      <td>101.000000</td>\n",
              "      <td>26.000000</td>\n",
              "      <td>410.800000</td>\n",
              "      <td>7.000000</td>\n",
              "      <td>3.000000</td>\n",
              "      <td>9.000000</td>\n",
              "    </tr>\n",
              "    <tr>\n",
              "      <th>25%</th>\n",
              "      <td>188.250000</td>\n",
              "      <td>30.000000</td>\n",
              "      <td>502.000000</td>\n",
              "      <td>9.000000</td>\n",
              "      <td>3.500000</td>\n",
              "      <td>15.000000</td>\n",
              "    </tr>\n",
              "    <tr>\n",
              "      <th>50%</th>\n",
              "      <td>275.500000</td>\n",
              "      <td>32.500000</td>\n",
              "      <td>775.200000</td>\n",
              "      <td>12.000000</td>\n",
              "      <td>4.100000</td>\n",
              "      <td>23.000000</td>\n",
              "    </tr>\n",
              "    <tr>\n",
              "      <th>75%</th>\n",
              "      <td>362.750000</td>\n",
              "      <td>37.000000</td>\n",
              "      <td>1160.600000</td>\n",
              "      <td>15.000000</td>\n",
              "      <td>4.500000</td>\n",
              "      <td>38.000000</td>\n",
              "    </tr>\n",
              "    <tr>\n",
              "      <th>max</th>\n",
              "      <td>450.000000</td>\n",
              "      <td>43.000000</td>\n",
              "      <td>1520.100000</td>\n",
              "      <td>21.000000</td>\n",
              "      <td>4.900000</td>\n",
              "      <td>63.000000</td>\n",
              "    </tr>\n",
              "  </tbody>\n",
              "</table>\n",
              "</div>\n",
              "    <div class=\"colab-df-buttons\">\n",
              "\n",
              "  <div class=\"colab-df-container\">\n",
              "    <button class=\"colab-df-convert\" onclick=\"convertToInteractive('df-302ce80d-c170-49ef-be9b-c1ce4b9ae5f1')\"\n",
              "            title=\"Convert this dataframe to an interactive table.\"\n",
              "            style=\"display:none;\">\n",
              "\n",
              "  <svg xmlns=\"http://www.w3.org/2000/svg\" height=\"24px\" viewBox=\"0 -960 960 960\">\n",
              "    <path d=\"M120-120v-720h720v720H120Zm60-500h600v-160H180v160Zm220 220h160v-160H400v160Zm0 220h160v-160H400v160ZM180-400h160v-160H180v160Zm440 0h160v-160H620v160ZM180-180h160v-160H180v160Zm440 0h160v-160H620v160Z\"/>\n",
              "  </svg>\n",
              "    </button>\n",
              "\n",
              "  <style>\n",
              "    .colab-df-container {\n",
              "      display:flex;\n",
              "      gap: 12px;\n",
              "    }\n",
              "\n",
              "    .colab-df-convert {\n",
              "      background-color: #E8F0FE;\n",
              "      border: none;\n",
              "      border-radius: 50%;\n",
              "      cursor: pointer;\n",
              "      display: none;\n",
              "      fill: #1967D2;\n",
              "      height: 32px;\n",
              "      padding: 0 0 0 0;\n",
              "      width: 32px;\n",
              "    }\n",
              "\n",
              "    .colab-df-convert:hover {\n",
              "      background-color: #E2EBFA;\n",
              "      box-shadow: 0px 1px 2px rgba(60, 64, 67, 0.3), 0px 1px 3px 1px rgba(60, 64, 67, 0.15);\n",
              "      fill: #174EA6;\n",
              "    }\n",
              "\n",
              "    .colab-df-buttons div {\n",
              "      margin-bottom: 4px;\n",
              "    }\n",
              "\n",
              "    [theme=dark] .colab-df-convert {\n",
              "      background-color: #3B4455;\n",
              "      fill: #D2E3FC;\n",
              "    }\n",
              "\n",
              "    [theme=dark] .colab-df-convert:hover {\n",
              "      background-color: #434B5C;\n",
              "      box-shadow: 0px 1px 3px 1px rgba(0, 0, 0, 0.15);\n",
              "      filter: drop-shadow(0px 1px 2px rgba(0, 0, 0, 0.3));\n",
              "      fill: #FFFFFF;\n",
              "    }\n",
              "  </style>\n",
              "\n",
              "    <script>\n",
              "      const buttonEl =\n",
              "        document.querySelector('#df-302ce80d-c170-49ef-be9b-c1ce4b9ae5f1 button.colab-df-convert');\n",
              "      buttonEl.style.display =\n",
              "        google.colab.kernel.accessAllowed ? 'block' : 'none';\n",
              "\n",
              "      async function convertToInteractive(key) {\n",
              "        const element = document.querySelector('#df-302ce80d-c170-49ef-be9b-c1ce4b9ae5f1');\n",
              "        const dataTable =\n",
              "          await google.colab.kernel.invokeFunction('convertToInteractive',\n",
              "                                                    [key], {});\n",
              "        if (!dataTable) return;\n",
              "\n",
              "        const docLinkHtml = 'Like what you see? Visit the ' +\n",
              "          '<a target=\"_blank\" href=https://colab.research.google.com/notebooks/data_table.ipynb>data table notebook</a>'\n",
              "          + ' to learn more about interactive tables.';\n",
              "        element.innerHTML = '';\n",
              "        dataTable['output_type'] = 'display_data';\n",
              "        await google.colab.output.renderOutput(dataTable, element);\n",
              "        const docLink = document.createElement('div');\n",
              "        docLink.innerHTML = docLinkHtml;\n",
              "        element.appendChild(docLink);\n",
              "      }\n",
              "    </script>\n",
              "  </div>\n",
              "\n",
              "\n",
              "<div id=\"df-06c750ab-d3db-46ea-9ad6-36787e600039\">\n",
              "  <button class=\"colab-df-quickchart\" onclick=\"quickchart('df-06c750ab-d3db-46ea-9ad6-36787e600039')\"\n",
              "            title=\"Suggest charts\"\n",
              "            style=\"display:none;\">\n",
              "\n",
              "<svg xmlns=\"http://www.w3.org/2000/svg\" height=\"24px\"viewBox=\"0 0 24 24\"\n",
              "     width=\"24px\">\n",
              "    <g>\n",
              "        <path d=\"M19 3H5c-1.1 0-2 .9-2 2v14c0 1.1.9 2 2 2h14c1.1 0 2-.9 2-2V5c0-1.1-.9-2-2-2zM9 17H7v-7h2v7zm4 0h-2V7h2v10zm4 0h-2v-4h2v4z\"/>\n",
              "    </g>\n",
              "</svg>\n",
              "  </button>\n",
              "\n",
              "<style>\n",
              "  .colab-df-quickchart {\n",
              "      --bg-color: #E8F0FE;\n",
              "      --fill-color: #1967D2;\n",
              "      --hover-bg-color: #E2EBFA;\n",
              "      --hover-fill-color: #174EA6;\n",
              "      --disabled-fill-color: #AAA;\n",
              "      --disabled-bg-color: #DDD;\n",
              "  }\n",
              "\n",
              "  [theme=dark] .colab-df-quickchart {\n",
              "      --bg-color: #3B4455;\n",
              "      --fill-color: #D2E3FC;\n",
              "      --hover-bg-color: #434B5C;\n",
              "      --hover-fill-color: #FFFFFF;\n",
              "      --disabled-bg-color: #3B4455;\n",
              "      --disabled-fill-color: #666;\n",
              "  }\n",
              "\n",
              "  .colab-df-quickchart {\n",
              "    background-color: var(--bg-color);\n",
              "    border: none;\n",
              "    border-radius: 50%;\n",
              "    cursor: pointer;\n",
              "    display: none;\n",
              "    fill: var(--fill-color);\n",
              "    height: 32px;\n",
              "    padding: 0;\n",
              "    width: 32px;\n",
              "  }\n",
              "\n",
              "  .colab-df-quickchart:hover {\n",
              "    background-color: var(--hover-bg-color);\n",
              "    box-shadow: 0 1px 2px rgba(60, 64, 67, 0.3), 0 1px 3px 1px rgba(60, 64, 67, 0.15);\n",
              "    fill: var(--button-hover-fill-color);\n",
              "  }\n",
              "\n",
              "  .colab-df-quickchart-complete:disabled,\n",
              "  .colab-df-quickchart-complete:disabled:hover {\n",
              "    background-color: var(--disabled-bg-color);\n",
              "    fill: var(--disabled-fill-color);\n",
              "    box-shadow: none;\n",
              "  }\n",
              "\n",
              "  .colab-df-spinner {\n",
              "    border: 2px solid var(--fill-color);\n",
              "    border-color: transparent;\n",
              "    border-bottom-color: var(--fill-color);\n",
              "    animation:\n",
              "      spin 1s steps(1) infinite;\n",
              "  }\n",
              "\n",
              "  @keyframes spin {\n",
              "    0% {\n",
              "      border-color: transparent;\n",
              "      border-bottom-color: var(--fill-color);\n",
              "      border-left-color: var(--fill-color);\n",
              "    }\n",
              "    20% {\n",
              "      border-color: transparent;\n",
              "      border-left-color: var(--fill-color);\n",
              "      border-top-color: var(--fill-color);\n",
              "    }\n",
              "    30% {\n",
              "      border-color: transparent;\n",
              "      border-left-color: var(--fill-color);\n",
              "      border-top-color: var(--fill-color);\n",
              "      border-right-color: var(--fill-color);\n",
              "    }\n",
              "    40% {\n",
              "      border-color: transparent;\n",
              "      border-right-color: var(--fill-color);\n",
              "      border-top-color: var(--fill-color);\n",
              "    }\n",
              "    60% {\n",
              "      border-color: transparent;\n",
              "      border-right-color: var(--fill-color);\n",
              "    }\n",
              "    80% {\n",
              "      border-color: transparent;\n",
              "      border-right-color: var(--fill-color);\n",
              "      border-bottom-color: var(--fill-color);\n",
              "    }\n",
              "    90% {\n",
              "      border-color: transparent;\n",
              "      border-bottom-color: var(--fill-color);\n",
              "    }\n",
              "  }\n",
              "</style>\n",
              "\n",
              "  <script>\n",
              "    async function quickchart(key) {\n",
              "      const quickchartButtonEl =\n",
              "        document.querySelector('#' + key + ' button');\n",
              "      quickchartButtonEl.disabled = true;  // To prevent multiple clicks.\n",
              "      quickchartButtonEl.classList.add('colab-df-spinner');\n",
              "      try {\n",
              "        const charts = await google.colab.kernel.invokeFunction(\n",
              "            'suggestCharts', [key], {});\n",
              "      } catch (error) {\n",
              "        console.error('Error during call to suggestCharts:', error);\n",
              "      }\n",
              "      quickchartButtonEl.classList.remove('colab-df-spinner');\n",
              "      quickchartButtonEl.classList.add('colab-df-quickchart-complete');\n",
              "    }\n",
              "    (() => {\n",
              "      let quickchartButtonEl =\n",
              "        document.querySelector('#df-06c750ab-d3db-46ea-9ad6-36787e600039 button');\n",
              "      quickchartButtonEl.style.display =\n",
              "        google.colab.kernel.accessAllowed ? 'block' : 'none';\n",
              "    })();\n",
              "  </script>\n",
              "</div>\n",
              "\n",
              "    </div>\n",
              "  </div>\n"
            ],
            "application/vnd.google.colaboratory.intrinsic+json": {
              "type": "dataframe",
              "summary": "{\n  \"name\": \"df\",\n  \"rows\": 8,\n  \"fields\": [\n    {\n      \"column\": \"Customer ID\",\n      \"properties\": {\n        \"dtype\": \"number\",\n        \"std\": 125.82167723697957,\n        \"min\": 101.0,\n        \"max\": 450.0,\n        \"num_unique_values\": 7,\n        \"samples\": [\n          350.0,\n          275.5,\n          362.75\n        ],\n        \"semantic_type\": \"\",\n        \"description\": \"\"\n      }\n    },\n    {\n      \"column\": \"Age\",\n      \"properties\": {\n        \"dtype\": \"number\",\n        \"std\": 113.84580479546716,\n        \"min\": 4.870882183548377,\n        \"max\": 350.0,\n        \"num_unique_values\": 8,\n        \"samples\": [\n          33.597142857142856,\n          32.5,\n          350.0\n        ],\n        \"semantic_type\": \"\",\n        \"description\": \"\"\n      }\n    },\n    {\n      \"column\": \"Total Spend\",\n      \"properties\": {\n        \"dtype\": \"number\",\n        \"std\": 423.8861492007103,\n        \"min\": 350.0,\n        \"max\": 1520.1,\n        \"num_unique_values\": 8,\n        \"samples\": [\n          845.3817142857142,\n          775.2,\n          350.0\n        ],\n        \"semantic_type\": \"\",\n        \"description\": \"\"\n      }\n    },\n    {\n      \"column\": \"Items Purchased\",\n      \"properties\": {\n        \"dtype\": \"number\",\n        \"std\": 119.77490343177188,\n        \"min\": 4.15598439647275,\n        \"max\": 350.0,\n        \"num_unique_values\": 8,\n        \"samples\": [\n          12.6,\n          12.0,\n          350.0\n        ],\n        \"semantic_type\": \"\",\n        \"description\": \"\"\n      }\n    },\n    {\n      \"column\": \"Average Rating\",\n      \"properties\": {\n        \"dtype\": \"number\",\n        \"std\": 122.50842266501334,\n        \"min\": 0.580538587146968,\n        \"max\": 350.0,\n        \"num_unique_values\": 8,\n        \"samples\": [\n          4.019142857142858,\n          4.1,\n          350.0\n        ],\n        \"semantic_type\": \"\",\n        \"description\": \"\"\n      }\n    },\n    {\n      \"column\": \"Days Since Last Purchase\",\n      \"properties\": {\n        \"dtype\": \"number\",\n        \"std\": 115.54291426745235,\n        \"min\": 9.0,\n        \"max\": 350.0,\n        \"num_unique_values\": 8,\n        \"samples\": [\n          26.588571428571427,\n          23.0,\n          350.0\n        ],\n        \"semantic_type\": \"\",\n        \"description\": \"\"\n      }\n    }\n  ]\n}"
            }
          },
          "metadata": {},
          "execution_count": 24
        }
      ]
    },
    {
      "cell_type": "markdown",
      "source": [
        "Jangan lupa berikan penjelasan juga disini yaa (tiap - tiap kolomnya, kecualikan aja kolom ID atau sejenis unique values) (ganti aja tulisannya)"
      ],
      "metadata": {
        "id": "cBBWPOXFmfct"
      }
    },
    {
      "cell_type": "markdown",
      "source": [
        "### **Exploratory Data Analysis**"
      ],
      "metadata": {
        "id": "fzRCQW9jlykH"
      }
    },
    {
      "cell_type": "markdown",
      "source": [
        "Setelah visualisasi ditampilkan, wajib diberikan penjelasan yaa dari visualisasi tersebut (jelaskan menggunakan gaya bahasa kalian sendiri)\n",
        "\n",
        "Masing masing pilar di bawah kalian sesuaikan aja, jangan dipaksakan kalau gak ada"
      ],
      "metadata": {
        "id": "pkt6jlyPnUvz"
      }
    },
    {
      "cell_type": "markdown",
      "source": [
        "##### **Distribution**"
      ],
      "metadata": {
        "id": "xdqtFQeBmwnu"
      }
    },
    {
      "cell_type": "code",
      "source": [
        "plt.figure(figsize=(10, 6))\n",
        "sns.histplot(df['Average Rating'], bins=10, kde=True)\n",
        "plt.title('Distribution of Average Ratings')\n",
        "plt.xlabel('Average Rating')\n",
        "plt.ylabel('Frequency')\n",
        "plt.show()"
      ],
      "metadata": {
        "id": "yUrdVRhgnN0e",
        "colab": {
          "base_uri": "https://localhost:8080/",
          "height": 564
        },
        "outputId": "42c28344-d3ef-436d-a1c5-af5b192f3b58"
      },
      "execution_count": 42,
      "outputs": [
        {
          "output_type": "display_data",
          "data": {
            "text/plain": [
              "<Figure size 1000x600 with 1 Axes>"
            ],
            "image/png": "[encoded data removed]"
          },
          "metadata": {}
        }
      ]
    },
    {
      "cell_type": "markdown",
      "source": [
        "Histogram ini menunjukkan distribusi rating rata-rata yang diberikan oleh pelanggan, dengan sumbu x mewakili rating dan sumbu y menunjukkan frekuensi kemunculan rating tersebut. Grafik ini menggunakan 10 bins untuk mengelompokkan data dan dilengkapi dengan garis Kernel Density Estimate (KDE) yang menggambarkan pola distribusi secara lebih halus. Dari grafik, terlihat bahwa sebagian besar pelanggan memberikan rating dalam rentang 4.0 hingga 4.5, menunjukkan bahwa mayoritas pelanggan memiliki pengalaman yang positif terhadap layanan atau produk yang mereka gunakan.\n",
        "\n",
        "Selain itu, distribusi rating terlihat relatif merata, meskipun ada sedikit puncak di sekitar 3.0 hingga 3.5, yang menunjukkan adanya sebagian pelanggan yang memberikan rating lebih rendah. Namun, karena frekuensi rating tinggi terkonsentrasi di kisaran 4.0 ke atas, ini mengindikasikan bahwa layanan atau produk secara keseluruhan diterima dengan baik oleh pelanggan. Jika perusahaan ingin meningkatkan kepuasan lebih lanjut, fokus bisa diberikan pada pelanggan dengan rating rendah untuk memahami faktor-faktor yang menyebabkan ketidakpuasan mereka."
      ],
      "metadata": {
        "id": "YBWJcmpk_bXq"
      }
    },
    {
      "cell_type": "markdown",
      "source": [
        "##### **Composition**"
      ],
      "metadata": {
        "id": "mtaEfFH7m1ki"
      }
    },
    {
      "cell_type": "code",
      "source": [
        "satisfaction_comp = pd.crosstab(df['Membership Type'], df['Satisfaction Level'])\n",
        "satisfaction_comp_percent = satisfaction_comp.div(satisfaction_comp.sum(axis=1), axis=0) * 100\n",
        "\n",
        "plt.figure(figsize=(10, 6))\n",
        "ax = satisfaction_comp_percent.plot(\n",
        "    kind='bar', stacked=True,\n",
        "    color=['#FF6F61', '#6B5B95', '#88B04B']\n",
        ")\n",
        "for container in ax.containers:\n",
        "    ax.bar_label(container, labels=[f'{x:.1f}%' if x >= 5 else '' for x in container.datavalues],\n",
        "                 label_type='center', fontsize=9, color='white', weight='bold')\n",
        "\n",
        "plt.title('Komposisi Tingkat Kepuasan berdasarkan Jenis Keanggotaan')\n",
        "plt.xlabel('Jenis Keanggotaan')\n",
        "plt.ylabel('Persentase (%)')\n",
        "plt.xticks(rotation=0)\n",
        "plt.legend(title='Tingkat Kepuasan')\n",
        "plt.show()"
      ],
      "metadata": {
        "id": "ZCRVCz0qnOSS",
        "colab": {
          "base_uri": "https://localhost:8080/",
          "height": 490
        },
        "outputId": "bcb9f196-1d80-4407-9f3b-335df641ad12"
      },
      "execution_count": 48,
      "outputs": [
        {
          "output_type": "display_data",
          "data": {
            "text/plain": [
              "<Figure size 1000x600 with 0 Axes>"
            ]
          },
          "metadata": {}
        },
        {
          "output_type": "display_data",
          "data": {
            "text/plain": [
              "<Figure size 640x480 with 1 Axes>"
            ],
            "image/png": "[encoded data removed]"
          },
          "metadata": {}
        }
      ]
    },
    {
      "cell_type": "markdown",
      "source": [
        "Grafik menunjukkan tingkat kepuasan pelanggan berdasarkan jenis keanggotaan. Pelanggan Gold memiliki tingkat kepuasan tertinggi, dengan 100% pelanggan merasa puas. Sebaliknya, pelanggan Bronze memiliki kepuasan terendah, dengan hampir 50.9% tidak puas dan 49.1% netral, tanpa ada yang merasa puas. Keanggotaan Silver menunjukkan kepuasan yang lebih baik daripada Bronze, tetapi masih hampir setengahnya (49.6%) merasa tidak puas, sementara hanya 6.8% yang puas.\n",
        "\n",
        "Temuan ini menunjukkan bahwa layanan untuk pelanggan Bronze dan Silver perlu ditingkatkan untuk meningkatkan kepuasan mereka. Strategi bisnis dapat difokuskan pada peningkatan manfaat keanggotaan Bronze dan Silver agar lebih kompetitif dengan Gold. Selain itu, insentif dapat diberikan kepada pelanggan Bronze dan Silver untuk mendorong mereka meningkatkan keanggotaan ke Gold, yang jelas memberikan pengalaman terbaik."
      ],
      "metadata": {
        "id": "Y508qsstAzA0"
      }
    },
    {
      "cell_type": "markdown",
      "source": [
        "##### **Relationship**"
      ],
      "metadata": {
        "id": "AzI6IyEim5fK"
      }
    },
    {
      "cell_type": "code",
      "source": [
        "plt.figure(figsize=(9, 6))\n",
        "sns.scatterplot(x='Items Purchased', y='Total Spend', data=df)\n",
        "plt.title('Relationship between Total Spend and Items Purchased')\n",
        "plt.xlabel('Items Purchased')\n",
        "plt.ylabel('Total Spend')\n",
        "plt.show()"
      ],
      "metadata": {
        "id": "yyCYa-qinO1b",
        "colab": {
          "base_uri": "https://localhost:8080/",
          "height": 564
        },
        "outputId": "6318f469-ac34-4955-8278-c283545c33cd"
      },
      "execution_count": 53,
      "outputs": [
        {
          "output_type": "display_data",
          "data": {
            "text/plain": [
              "<Figure size 900x600 with 1 Axes>"
            ],
            "image/png": "[encoded data removed]"
          },
          "metadata": {}
        }
      ]
    },
    {
      "cell_type": "markdown",
      "source": [
        "Scatter plot ini menunjukkan hubungan antara jumlah barang yang dibeli (Items Purchased) dengan total pengeluaran (Total Spend). Dari pola titik-titik yang terlihat, terdapat tren positif yang jelas, di mana semakin banyak barang yang dibeli, semakin tinggi total pengeluaran pelanggan. Hal ini menunjukkan korelasi yang kuat antara jumlah pembelian dan total belanja, yang masuk akal karena semakin banyak produk yang dibeli, semakin besar pula biaya yang dikeluarkan.\n",
        "\n",
        "Selain itu, terdapat sedikit variasi dalam pengeluaran pada jumlah pembelian yang sama, yang mungkin mencerminkan adanya perbedaan harga antar produk atau adanya diskon yang diterapkan. Beberapa titik menunjukkan pelanggan dengan pengeluaran lebih tinggi dibandingkan yang lain meskipun jumlah barang yang dibeli sama, yang bisa menjadi indikasi bahwa mereka membeli produk dengan harga lebih tinggi atau memiliki preferensi terhadap produk premium. Analisis lebih lanjut dapat dilakukan untuk melihat apakah faktor-faktor seperti kategori produk atau program diskon berpengaruh terhadap pola ini."
      ],
      "metadata": {
        "id": "eHTF9ZRQDzPk"
      }
    },
    {
      "cell_type": "markdown",
      "source": [
        "##### **Comparison**"
      ],
      "metadata": {
        "id": "tQLXj-DtnKvz"
      }
    },
    {
      "cell_type": "code",
      "source": [
        "avg_spend = df.groupby('Membership Type')['Total Spend'].mean().reset_index()\n",
        "\n",
        "plt.figure(figsize=(6, 5))\n",
        "sns.barplot(x='Membership Type', y='Total Spend', data=avg_spend, hue='Membership Type', palette='pastel', legend=False)\n",
        "plt.title('Rata-rata Pengeluaran berdasarkan Jenis Keanggotaan')\n",
        "plt.xlabel('Jenis Keanggotaan')\n",
        "plt.ylabel('Rata-rata Pengeluaran')\n",
        "plt.xticks(rotation=0)\n",
        "plt.show()"
      ],
      "metadata": {
        "id": "CGuR0eRqnPP4",
        "colab": {
          "base_uri": "https://localhost:8080/",
          "height": 487
        },
        "outputId": "d454e573-625b-4f27-d810-12db72d70a13"
      },
      "execution_count": 57,
      "outputs": [
        {
          "output_type": "display_data",
          "data": {
            "text/plain": [
              "<Figure size 600x500 with 1 Axes>"
            ],
            "image/png": "[encoded data removed]"
          },
          "metadata": {}
        }
      ]
    },
    {
      "cell_type": "markdown",
      "source": [
        "Bar Chart ini menunjukkan rata-rata pengeluaran pelanggan berdasarkan jenis keanggotaan (Membership Type). Dari hasil visualisasi, terlihat bahwa pelanggan dengan keanggotaan Gold memiliki rata-rata pengeluaran tertinggi dibandingkan dengan pelanggan Silver dan Bronze. Hal ini dapat mengindikasikan bahwa pelanggan dengan keanggotaan Gold cenderung lebih loyal atau lebih sering melakukan pembelian dengan nilai transaksi yang lebih besar.\n",
        "\n",
        "Pelanggan dengan keanggotaan Bronze memiliki rata-rata pengeluaran yang paling rendah. Ini mungkin disebabkan oleh keterbatasan akses ke promosi eksklusif atau manfaat yang lebih sedikit dibandingkan keanggotaan Silver dan Gold. Analisis lebih lanjut dapat dilakukan dengan mengeksplorasi faktor-faktor lain seperti jumlah transaksi per pelanggan atau kategori produk yang paling sering dibeli oleh masing-masing tipe keanggotaan."
      ],
      "metadata": {
        "id": "SypWdKJOHt1p"
      }
    },
    {
      "cell_type": "markdown",
      "source": [
        "### **Verify Data Quality**"
      ],
      "metadata": {
        "id": "c1-w0oAol3Tt"
      }
    },
    {
      "cell_type": "markdown",
      "source": [
        "##### **Missing Values**"
      ],
      "metadata": {
        "id": "58TEt7YXnmpy"
      }
    },
    {
      "cell_type": "code",
      "source": [
        "print((df.isna().sum() / len(df)) * 100)"
      ],
      "metadata": {
        "id": "J_OQDvfioMyt",
        "colab": {
          "base_uri": "https://localhost:8080/"
        },
        "outputId": "34c41923-8bf6-4cc0-81f0-e8c21c3987d9"
      },
      "execution_count": 58,
      "outputs": [
        {
          "output_type": "stream",
          "name": "stdout",
          "text": [
            "Customer ID                 0.000000\n",
            "Gender                      0.000000\n",
            "Age                         0.000000\n",
            "City                        0.000000\n",
            "Membership Type             0.000000\n",
            "Total Spend                 0.000000\n",
            "Items Purchased             0.000000\n",
            "Average Rating              0.000000\n",
            "Discount Applied            0.000000\n",
            "Days Since Last Purchase    0.000000\n",
            "Satisfaction Level          0.571429\n",
            "dtype: float64\n"
          ]
        }
      ]
    },
    {
      "cell_type": "markdown",
      "source": [
        "Pada dataset tersebut terlihat bahwa terdapat missing values pada kolom satisfaction level yaitu sebesar 0.57%\n",
        "\n",
        "Untuk Menangani Missing Values :\n",
        "• Dihapus (apabila persentasenya >= 70%)\n",
        "• Apabila < 70%, terdapat 2 opsi yang sering digunakan, hapus dan imputasi (mengisinya dengan mean, median, modus, dan nilai quartil dari kolom terkait) sesuai dengan kondisi fitur dan distribusi nilai di dalamnya\n",
        "\n",
        "Karena persentasenya < 70%, maka terdapat opsi dihapus ataupun dilakukan imputasi. Karena data yang saya gunakan penting dan saya memutuskan untuk tidak menghapusnya, maka akan dilakukan imputasi.\n",
        "\n",
        "Imputasi yang dilakukan adalah Imputasi berdasarkan **modus data** karena data merupakan kategorikal sehingga tidak bisa melakukan imputasi berdasarkan mean."
      ],
      "metadata": {
        "id": "Qu4srYNFoLRF"
      }
    },
    {
      "cell_type": "code",
      "source": [
        "categorical_cols = df.select_dtypes(include=['object']).columns\n",
        "for col in categorical_cols:\n",
        "    df[col] = df[col].fillna(df[col].mode()[0])\n",
        "\n",
        "\n",
        "print(\"\\nMissing Values Setelah Imputasi:\\n\", df.isnull().sum())"
      ],
      "metadata": {
        "colab": {
          "base_uri": "https://localhost:8080/"
        },
        "id": "iTtGJgcpxGIO",
        "outputId": "a643d759-70dc-4e50-ec88-6040693f79ee"
      },
      "execution_count": 59,
      "outputs": [
        {
          "output_type": "stream",
          "name": "stdout",
          "text": [
            "\n",
            "Missing Values Setelah Imputasi:\n",
            " Customer ID                 0\n",
            "Gender                      0\n",
            "Age                         0\n",
            "City                        0\n",
            "Membership Type             0\n",
            "Total Spend                 0\n",
            "Items Purchased             0\n",
            "Average Rating              0\n",
            "Discount Applied            0\n",
            "Days Since Last Purchase    0\n",
            "Satisfaction Level          0\n",
            "dtype: int64\n"
          ]
        }
      ]
    },
    {
      "cell_type": "markdown",
      "source": [
        "Setelah dilakukan imputasi dan dilakukan pengecekan Missing Values, dapat terlihat bahwa pada Kolom Satisfaction Level sudah tidak ada lagi data yang Mengalami missing values ditandai dengan isi pengecekan .isnull().sum() yang berjumlah 0"
      ],
      "metadata": {
        "id": "FZZ4GKBRidhD"
      }
    },
    {
      "cell_type": "markdown",
      "source": [
        "##### **Outliers Values**"
      ],
      "metadata": {
        "id": "e0lyPMJOnqn7"
      }
    },
    {
      "cell_type": "code",
      "source": [
        "results = []\n",
        "\n",
        "numeric_cols = df.select_dtypes(include=['float64', 'int64']).columns\n",
        "\n",
        "for col in numeric_cols:\n",
        "    q1 = df[col].dropna().quantile(0.25)\n",
        "    q3 = df[col].dropna().quantile(0.75)\n",
        "    iqr = q3 - q1\n",
        "    lower_bound = q1 - 1.5 * iqr\n",
        "    upper_bound = q3 + 1.5 * iqr\n",
        "\n",
        "    outliers = df[(df[col] < lower_bound) | (df[col] > upper_bound)]\n",
        "    percent_outliers = (len(outliers) / len(df)) * 100\n",
        "\n",
        "    results.append({'Kolom': col, 'Persentase Outliers': percent_outliers})\n",
        "\n",
        "results_df = pd.DataFrame(results)\n",
        "results_df.set_index('Kolom', inplace=True)\n",
        "\n",
        "display(results_df)"
      ],
      "metadata": {
        "id": "onYvVZoJoRVy",
        "colab": {
          "base_uri": "https://localhost:8080/",
          "height": 269
        },
        "outputId": "dfd22b80-7516-42f2-c3e0-6d5196d95255"
      },
      "execution_count": 60,
      "outputs": [
        {
          "output_type": "display_data",
          "data": {
            "text/plain": [
              "                          Persentase Outliers\n",
              "Kolom                                        \n",
              "Customer ID                               0.0\n",
              "Age                                       0.0\n",
              "Total Spend                               0.0\n",
              "Items Purchased                           0.0\n",
              "Average Rating                            0.0\n",
              "Days Since Last Purchase                  0.0"
            ],
            "text/html": [
              "\n",
              "  <div id=\"df-ce87ace0-3de1-42e0-a4b4-2aff35d48a05\" class=\"colab-df-container\">\n",
              "    <div>\n",
              "<style scoped>\n",
              "    .dataframe tbody tr th:only-of-type {\n",
              "        vertical-align: middle;\n",
              "    }\n",
              "\n",
              "    .dataframe tbody tr th {\n",
              "        vertical-align: top;\n",
              "    }\n",
              "\n",
              "    .dataframe thead th {\n",
              "        text-align: right;\n",
              "    }\n",
              "</style>\n",
              "<table border=\"1\" class=\"dataframe\">\n",
              "  <thead>\n",
              "    <tr style=\"text-align: right;\">\n",
              "      <th></th>\n",
              "      <th>Persentase Outliers</th>\n",
              "    </tr>\n",
              "    <tr>\n",
              "      <th>Kolom</th>\n",
              "      <th></th>\n",
              "    </tr>\n",
              "  </thead>\n",
              "  <tbody>\n",
              "    <tr>\n",
              "      <th>Customer ID</th>\n",
              "      <td>0.0</td>\n",
              "    </tr>\n",
              "    <tr>\n",
              "      <th>Age</th>\n",
              "      <td>0.0</td>\n",
              "    </tr>\n",
              "    <tr>\n",
              "      <th>Total Spend</th>\n",
              "      <td>0.0</td>\n",
              "    </tr>\n",
              "    <tr>\n",
              "      <th>Items Purchased</th>\n",
              "      <td>0.0</td>\n",
              "    </tr>\n",
              "    <tr>\n",
              "      <th>Average Rating</th>\n",
              "      <td>0.0</td>\n",
              "    </tr>\n",
              "    <tr>\n",
              "      <th>Days Since Last Purchase</th>\n",
              "      <td>0.0</td>\n",
              "    </tr>\n",
              "  </tbody>\n",
              "</table>\n",
              "</div>\n",
              "    <div class=\"colab-df-buttons\">\n",
              "\n",
              "  <div class=\"colab-df-container\">\n",
              "    <button class=\"colab-df-convert\" onclick=\"convertToInteractive('df-ce87ace0-3de1-42e0-a4b4-2aff35d48a05')\"\n",
              "            title=\"Convert this dataframe to an interactive table.\"\n",
              "            style=\"display:none;\">\n",
              "\n",
              "  <svg xmlns=\"http://www.w3.org/2000/svg\" height=\"24px\" viewBox=\"0 -960 960 960\">\n",
              "    <path d=\"M120-120v-720h720v720H120Zm60-500h600v-160H180v160Zm220 220h160v-160H400v160Zm0 220h160v-160H400v160ZM180-400h160v-160H180v160Zm440 0h160v-160H620v160ZM180-180h160v-160H180v160Zm440 0h160v-160H620v160Z\"/>\n",
              "  </svg>\n",
              "    </button>\n",
              "\n",
              "  <style>\n",
              "    .colab-df-container {\n",
              "      display:flex;\n",
              "      gap: 12px;\n",
              "    }\n",
              "\n",
              "    .colab-df-convert {\n",
              "      background-color: #E8F0FE;\n",
              "      border: none;\n",
              "      border-radius: 50%;\n",
              "      cursor: pointer;\n",
              "      display: none;\n",
              "      fill: #1967D2;\n",
              "      height: 32px;\n",
              "      padding: 0 0 0 0;\n",
              "      width: 32px;\n",
              "    }\n",
              "\n",
              "    .colab-df-convert:hover {\n",
              "      background-color: #E2EBFA;\n",
              "      box-shadow: 0px 1px 2px rgba(60, 64, 67, 0.3), 0px 1px 3px 1px rgba(60, 64, 67, 0.15);\n",
              "      fill: #174EA6;\n",
              "    }\n",
              "\n",
              "    .colab-df-buttons div {\n",
              "      margin-bottom: 4px;\n",
              "    }\n",
              "\n",
              "    [theme=dark] .colab-df-convert {\n",
              "      background-color: #3B4455;\n",
              "      fill: #D2E3FC;\n",
              "    }\n",
              "\n",
              "    [theme=dark] .colab-df-convert:hover {\n",
              "      background-color: #434B5C;\n",
              "      box-shadow: 0px 1px 3px 1px rgba(0, 0, 0, 0.15);\n",
              "      filter: drop-shadow(0px 1px 2px rgba(0, 0, 0, 0.3));\n",
              "      fill: #FFFFFF;\n",
              "    }\n",
              "  </style>\n",
              "\n",
              "    <script>\n",
              "      const buttonEl =\n",
              "        document.querySelector('#df-ce87ace0-3de1-42e0-a4b4-2aff35d48a05 button.colab-df-convert');\n",
              "      buttonEl.style.display =\n",
              "        google.colab.kernel.accessAllowed ? 'block' : 'none';\n",
              "\n",
              "      async function convertToInteractive(key) {\n",
              "        const element = document.querySelector('#df-ce87ace0-3de1-42e0-a4b4-2aff35d48a05');\n",
              "        const dataTable =\n",
              "          await google.colab.kernel.invokeFunction('convertToInteractive',\n",
              "                                                    [key], {});\n",
              "        if (!dataTable) return;\n",
              "\n",
              "        const docLinkHtml = 'Like what you see? Visit the ' +\n",
              "          '<a target=\"_blank\" href=https://colab.research.google.com/notebooks/data_table.ipynb>data table notebook</a>'\n",
              "          + ' to learn more about interactive tables.';\n",
              "        element.innerHTML = '';\n",
              "        dataTable['output_type'] = 'display_data';\n",
              "        await google.colab.output.renderOutput(dataTable, element);\n",
              "        const docLink = document.createElement('div');\n",
              "        docLink.innerHTML = docLinkHtml;\n",
              "        element.appendChild(docLink);\n",
              "      }\n",
              "    </script>\n",
              "  </div>\n",
              "\n",
              "\n",
              "<div id=\"df-da02a846-a3ff-495b-b31e-2f23ec7a82dc\">\n",
              "  <button class=\"colab-df-quickchart\" onclick=\"quickchart('df-da02a846-a3ff-495b-b31e-2f23ec7a82dc')\"\n",
              "            title=\"Suggest charts\"\n",
              "            style=\"display:none;\">\n",
              "\n",
              "<svg xmlns=\"http://www.w3.org/2000/svg\" height=\"24px\"viewBox=\"0 0 24 24\"\n",
              "     width=\"24px\">\n",
              "    <g>\n",
              "        <path d=\"M19 3H5c-1.1 0-2 .9-2 2v14c0 1.1.9 2 2 2h14c1.1 0 2-.9 2-2V5c0-1.1-.9-2-2-2zM9 17H7v-7h2v7zm4 0h-2V7h2v10zm4 0h-2v-4h2v4z\"/>\n",
              "    </g>\n",
              "</svg>\n",
              "  </button>\n",
              "\n",
              "<style>\n",
              "  .colab-df-quickchart {\n",
              "      --bg-color: #E8F0FE;\n",
              "      --fill-color: #1967D2;\n",
              "      --hover-bg-color: #E2EBFA;\n",
              "      --hover-fill-color: #174EA6;\n",
              "      --disabled-fill-color: #AAA;\n",
              "      --disabled-bg-color: #DDD;\n",
              "  }\n",
              "\n",
              "  [theme=dark] .colab-df-quickchart {\n",
              "      --bg-color: #3B4455;\n",
              "      --fill-color: #D2E3FC;\n",
              "      --hover-bg-color: #434B5C;\n",
              "      --hover-fill-color: #FFFFFF;\n",
              "      --disabled-bg-color: #3B4455;\n",
              "      --disabled-fill-color: #666;\n",
              "  }\n",
              "\n",
              "  .colab-df-quickchart {\n",
              "    background-color: var(--bg-color);\n",
              "    border: none;\n",
              "    border-radius: 50%;\n",
              "    cursor: pointer;\n",
              "    display: none;\n",
              "    fill: var(--fill-color);\n",
              "    height: 32px;\n",
              "    padding: 0;\n",
              "    width: 32px;\n",
              "  }\n",
              "\n",
              "  .colab-df-quickchart:hover {\n",
              "    background-color: var(--hover-bg-color);\n",
              "    box-shadow: 0 1px 2px rgba(60, 64, 67, 0.3), 0 1px 3px 1px rgba(60, 64, 67, 0.15);\n",
              "    fill: var(--button-hover-fill-color);\n",
              "  }\n",
              "\n",
              "  .colab-df-quickchart-complete:disabled,\n",
              "  .colab-df-quickchart-complete:disabled:hover {\n",
              "    background-color: var(--disabled-bg-color);\n",
              "    fill: var(--disabled-fill-color);\n",
              "    box-shadow: none;\n",
              "  }\n",
              "\n",
              "  .colab-df-spinner {\n",
              "    border: 2px solid var(--fill-color);\n",
              "    border-color: transparent;\n",
              "    border-bottom-color: var(--fill-color);\n",
              "    animation:\n",
              "      spin 1s steps(1) infinite;\n",
              "  }\n",
              "\n",
              "  @keyframes spin {\n",
              "    0% {\n",
              "      border-color: transparent;\n",
              "      border-bottom-color: var(--fill-color);\n",
              "      border-left-color: var(--fill-color);\n",
              "    }\n",
              "    20% {\n",
              "      border-color: transparent;\n",
              "      border-left-color: var(--fill-color);\n",
              "      border-top-color: var(--fill-color);\n",
              "    }\n",
              "    30% {\n",
              "      border-color: transparent;\n",
              "      border-left-color: var(--fill-color);\n",
              "      border-top-color: var(--fill-color);\n",
              "      border-right-color: var(--fill-color);\n",
              "    }\n",
              "    40% {\n",
              "      border-color: transparent;\n",
              "      border-right-color: var(--fill-color);\n",
              "      border-top-color: var(--fill-color);\n",
              "    }\n",
              "    60% {\n",
              "      border-color: transparent;\n",
              "      border-right-color: var(--fill-color);\n",
              "    }\n",
              "    80% {\n",
              "      border-color: transparent;\n",
              "      border-right-color: var(--fill-color);\n",
              "      border-bottom-color: var(--fill-color);\n",
              "    }\n",
              "    90% {\n",
              "      border-color: transparent;\n",
              "      border-bottom-color: var(--fill-color);\n",
              "    }\n",
              "  }\n",
              "</style>\n",
              "\n",
              "  <script>\n",
              "    async function quickchart(key) {\n",
              "      const quickchartButtonEl =\n",
              "        document.querySelector('#' + key + ' button');\n",
              "      quickchartButtonEl.disabled = true;  // To prevent multiple clicks.\n",
              "      quickchartButtonEl.classList.add('colab-df-spinner');\n",
              "      try {\n",
              "        const charts = await google.colab.kernel.invokeFunction(\n",
              "            'suggestCharts', [key], {});\n",
              "      } catch (error) {\n",
              "        console.error('Error during call to suggestCharts:', error);\n",
              "      }\n",
              "      quickchartButtonEl.classList.remove('colab-df-spinner');\n",
              "      quickchartButtonEl.classList.add('colab-df-quickchart-complete');\n",
              "    }\n",
              "    (() => {\n",
              "      let quickchartButtonEl =\n",
              "        document.querySelector('#df-da02a846-a3ff-495b-b31e-2f23ec7a82dc button');\n",
              "      quickchartButtonEl.style.display =\n",
              "        google.colab.kernel.accessAllowed ? 'block' : 'none';\n",
              "    })();\n",
              "  </script>\n",
              "</div>\n",
              "\n",
              "  <div id=\"id_8ae2136b-7acf-4a37-a2bb-665638215ee4\">\n",
              "    <style>\n",
              "      .colab-df-generate {\n",
              "        background-color: #E8F0FE;\n",
              "        border: none;\n",
              "        border-radius: 50%;\n",
              "        cursor: pointer;\n",
              "        display: none;\n",
              "        fill: #1967D2;\n",
              "        height: 32px;\n",
              "        padding: 0 0 0 0;\n",
              "        width: 32px;\n",
              "      }\n",
              "\n",
              "      .colab-df-generate:hover {\n",
              "        background-color: #E2EBFA;\n",
              "        box-shadow: 0px 1px 2px rgba(60, 64, 67, 0.3), 0px 1px 3px 1px rgba(60, 64, 67, 0.15);\n",
              "        fill: #174EA6;\n",
              "      }\n",
              "\n",
              "      [theme=dark] .colab-df-generate {\n",
              "        background-color: #3B4455;\n",
              "        fill: #D2E3FC;\n",
              "      }\n",
              "\n",
              "      [theme=dark] .colab-df-generate:hover {\n",
              "        background-color: #434B5C;\n",
              "        box-shadow: 0px 1px 3px 1px rgba(0, 0, 0, 0.15);\n",
              "        filter: drop-shadow(0px 1px 2px rgba(0, 0, 0, 0.3));\n",
              "        fill: #FFFFFF;\n",
              "      }\n",
              "    </style>\n",
              "    <button class=\"colab-df-generate\" onclick=\"generateWithVariable('results_df')\"\n",
              "            title=\"Generate code using this dataframe.\"\n",
              "            style=\"display:none;\">\n",
              "\n",
              "  <svg xmlns=\"http://www.w3.org/2000/svg\" height=\"24px\"viewBox=\"0 0 24 24\"\n",
              "       width=\"24px\">\n",
              "    <path d=\"M7,19H8.4L18.45,9,17,7.55,7,17.6ZM5,21V16.75L18.45,3.32a2,2,0,0,1,2.83,0l1.4,1.43a1.91,1.91,0,0,1,.58,1.4,1.91,1.91,0,0,1-.58,1.4L9.25,21ZM18.45,9,17,7.55Zm-12,3A5.31,5.31,0,0,0,4.9,8.1,5.31,5.31,0,0,0,1,6.5,5.31,5.31,0,0,0,4.9,4.9,5.31,5.31,0,0,0,6.5,1,5.31,5.31,0,0,0,8.1,4.9,5.31,5.31,0,0,0,12,6.5,5.46,5.46,0,0,0,6.5,12Z\"/>\n",
              "  </svg>\n",
              "    </button>\n",
              "    <script>\n",
              "      (() => {\n",
              "      const buttonEl =\n",
              "        document.querySelector('#id_8ae2136b-7acf-4a37-a2bb-665638215ee4 button.colab-df-generate');\n",
              "      buttonEl.style.display =\n",
              "        google.colab.kernel.accessAllowed ? 'block' : 'none';\n",
              "\n",
              "      buttonEl.onclick = () => {\n",
              "        google.colab.notebook.generateWithVariable('results_df');\n",
              "      }\n",
              "      })();\n",
              "    </script>\n",
              "  </div>\n",
              "\n",
              "    </div>\n",
              "  </div>\n"
            ],
            "application/vnd.google.colaboratory.intrinsic+json": {
              "type": "dataframe",
              "variable_name": "results_df",
              "summary": "{\n  \"name\": \"results_df\",\n  \"rows\": 6,\n  \"fields\": [\n    {\n      \"column\": \"Kolom\",\n      \"properties\": {\n        \"dtype\": \"string\",\n        \"num_unique_values\": 6,\n        \"samples\": [\n          \"Customer ID\",\n          \"Age\",\n          \"Days Since Last Purchase\"\n        ],\n        \"semantic_type\": \"\",\n        \"description\": \"\"\n      }\n    },\n    {\n      \"column\": \"Persentase Outliers\",\n      \"properties\": {\n        \"dtype\": \"number\",\n        \"std\": 0.0,\n        \"min\": 0.0,\n        \"max\": 0.0,\n        \"num_unique_values\": 1,\n        \"samples\": [\n          0.0\n        ],\n        \"semantic_type\": \"\",\n        \"description\": \"\"\n      }\n    }\n  ]\n}"
            }
          },
          "metadata": {}
        }
      ]
    },
    {
      "cell_type": "markdown",
      "source": [
        "Dari Pengecekan Outliers diatas, dapat terlihat bahwa persentase outliers dari tiap kolom yang bertipe numerik memiliki nilai 0.0 atau tidak terdapat outliers dari tiap data, sehingga tidak perlu dilakukan penanganan terhadap Outliers."
      ],
      "metadata": {
        "id": "ZAraCdAKoR2B"
      }
    },
    {
      "cell_type": "markdown",
      "source": [
        "##### **Duplicated Values**"
      ],
      "metadata": {
        "id": "tibgKDTAnuoA"
      }
    },
    {
      "cell_type": "code",
      "source": [
        "df[df.duplicated()]"
      ],
      "metadata": {
        "id": "QpNVv-FEoekz",
        "colab": {
          "base_uri": "https://localhost:8080/",
          "height": 67
        },
        "outputId": "d64f61cb-6f0d-48e4-a0d3-35cff834cf8d"
      },
      "execution_count": 61,
      "outputs": [
        {
          "output_type": "execute_result",
          "data": {
            "text/plain": [
              "Empty DataFrame\n",
              "Columns: [Customer ID, Gender, Age, City, Membership Type, Total Spend, Items Purchased, Average Rating, Discount Applied, Days Since Last Purchase, Satisfaction Level]\n",
              "Index: []"
            ],
            "text/html": [
              "\n",
              "  <div id=\"df-a61acc5e-cec3-4fee-94be-2d68a9635778\" class=\"colab-df-container\">\n",
              "    <div>\n",
              "<style scoped>\n",
              "    .dataframe tbody tr th:only-of-type {\n",
              "        vertical-align: middle;\n",
              "    }\n",
              "\n",
              "    .dataframe tbody tr th {\n",
              "        vertical-align: top;\n",
              "    }\n",
              "\n",
              "    .dataframe thead th {\n",
              "        text-align: right;\n",
              "    }\n",
              "</style>\n",
              "<table border=\"1\" class=\"dataframe\">\n",
              "  <thead>\n",
              "    <tr style=\"text-align: right;\">\n",
              "      <th></th>\n",
              "      <th>Customer ID</th>\n",
              "      <th>Gender</th>\n",
              "      <th>Age</th>\n",
              "      <th>City</th>\n",
              "      <th>Membership Type</th>\n",
              "      <th>Total Spend</th>\n",
              "      <th>Items Purchased</th>\n",
              "      <th>Average Rating</th>\n",
              "      <th>Discount Applied</th>\n",
              "      <th>Days Since Last Purchase</th>\n",
              "      <th>Satisfaction Level</th>\n",
              "    </tr>\n",
              "  </thead>\n",
              "  <tbody>\n",
              "  </tbody>\n",
              "</table>\n",
              "</div>\n",
              "    <div class=\"colab-df-buttons\">\n",
              "\n",
              "  <div class=\"colab-df-container\">\n",
              "    <button class=\"colab-df-convert\" onclick=\"convertToInteractive('df-a61acc5e-cec3-4fee-94be-2d68a9635778')\"\n",
              "            title=\"Convert this dataframe to an interactive table.\"\n",
              "            style=\"display:none;\">\n",
              "\n",
              "  <svg xmlns=\"http://www.w3.org/2000/svg\" height=\"24px\" viewBox=\"0 -960 960 960\">\n",
              "    <path d=\"M120-120v-720h720v720H120Zm60-500h600v-160H180v160Zm220 220h160v-160H400v160Zm0 220h160v-160H400v160ZM180-400h160v-160H180v160Zm440 0h160v-160H620v160ZM180-180h160v-160H180v160Zm440 0h160v-160H620v160Z\"/>\n",
              "  </svg>\n",
              "    </button>\n",
              "\n",
              "  <style>\n",
              "    .colab-df-container {\n",
              "      display:flex;\n",
              "      gap: 12px;\n",
              "    }\n",
              "\n",
              "    .colab-df-convert {\n",
              "      background-color: #E8F0FE;\n",
              "      border: none;\n",
              "      border-radius: 50%;\n",
              "      cursor: pointer;\n",
              "      display: none;\n",
              "      fill: #1967D2;\n",
              "      height: 32px;\n",
              "      padding: 0 0 0 0;\n",
              "      width: 32px;\n",
              "    }\n",
              "\n",
              "    .colab-df-convert:hover {\n",
              "      background-color: #E2EBFA;\n",
              "      box-shadow: 0px 1px 2px rgba(60, 64, 67, 0.3), 0px 1px 3px 1px rgba(60, 64, 67, 0.15);\n",
              "      fill: #174EA6;\n",
              "    }\n",
              "\n",
              "    .colab-df-buttons div {\n",
              "      margin-bottom: 4px;\n",
              "    }\n",
              "\n",
              "    [theme=dark] .colab-df-convert {\n",
              "      background-color: #3B4455;\n",
              "      fill: #D2E3FC;\n",
              "    }\n",
              "\n",
              "    [theme=dark] .colab-df-convert:hover {\n",
              "      background-color: #434B5C;\n",
              "      box-shadow: 0px 1px 3px 1px rgba(0, 0, 0, 0.15);\n",
              "      filter: drop-shadow(0px 1px 2px rgba(0, 0, 0, 0.3));\n",
              "      fill: #FFFFFF;\n",
              "    }\n",
              "  </style>\n",
              "\n",
              "    <script>\n",
              "      const buttonEl =\n",
              "        document.querySelector('#df-a61acc5e-cec3-4fee-94be-2d68a9635778 button.colab-df-convert');\n",
              "      buttonEl.style.display =\n",
              "        google.colab.kernel.accessAllowed ? 'block' : 'none';\n",
              "\n",
              "      async function convertToInteractive(key) {\n",
              "        const element = document.querySelector('#df-a61acc5e-cec3-4fee-94be-2d68a9635778');\n",
              "        const dataTable =\n",
              "          await google.colab.kernel.invokeFunction('convertToInteractive',\n",
              "                                                    [key], {});\n",
              "        if (!dataTable) return;\n",
              "\n",
              "        const docLinkHtml = 'Like what you see? Visit the ' +\n",
              "          '<a target=\"_blank\" href=https://colab.research.google.com/notebooks/data_table.ipynb>data table notebook</a>'\n",
              "          + ' to learn more about interactive tables.';\n",
              "        element.innerHTML = '';\n",
              "        dataTable['output_type'] = 'display_data';\n",
              "        await google.colab.output.renderOutput(dataTable, element);\n",
              "        const docLink = document.createElement('div');\n",
              "        docLink.innerHTML = docLinkHtml;\n",
              "        element.appendChild(docLink);\n",
              "      }\n",
              "    </script>\n",
              "  </div>\n",
              "\n",
              "\n",
              "    </div>\n",
              "  </div>\n"
            ],
            "application/vnd.google.colaboratory.intrinsic+json": {
              "type": "dataframe",
              "repr_error": "Out of range float values are not JSON compliant: nan"
            }
          },
          "metadata": {},
          "execution_count": 61
        }
      ]
    },
    {
      "cell_type": "markdown",
      "source": [
        "Berikut adalah pengecekan untuk dataset yang memiliki values yang duplikat, dapat terlihat bahwa ketika saya melakukan pengecekan, tidak ada tampil baris ataupun isi data dari tiap kolom yang ada sehingga dapat disimpulkan bahwa tidak adanya values yang terduplikat sehingga tidak perlu dilakukan penanganan lebih lanjut."
      ],
      "metadata": {
        "id": "a76xaRvYog0O"
      }
    },
    {
      "cell_type": "markdown",
      "source": [
        "##### **Inconsistent Values/Noise**"
      ],
      "metadata": {
        "id": "3QGMXTebnyKV"
      }
    },
    {
      "cell_type": "code",
      "source": [
        "kolom_kategorikal = [\n",
        "    'Customer ID', 'Gender', 'Age', 'City', 'Membership Type',\n",
        "    'Total Spend', 'Items Purchased', 'Average Rating', 'Discount Applied',\n",
        "    'Days Since Last Purchase', 'Satisfaction Level'\n",
        "]\n",
        "\n",
        "for col in kolom_kategorikal:\n",
        "    print(f\"Kolom: {col}\")\n",
        "    print(df[col].value_counts())\n",
        "    print(\"-\" * 50)\n",
        "\n",
        "\n",
        "for col in df.select_dtypes(include=['O']).columns:\n",
        "    print(\"cek ini cuashduiosadhasouidas\")\n",
        "    print(f\"\\n{col}:\\n{df[col].value_counts()}\")"
      ],
      "metadata": {
        "id": "HfELcCgnoky_",
        "colab": {
          "base_uri": "https://localhost:8080/"
        },
        "outputId": "77142674-a9cb-4732-e36d-e19e40989e17"
      },
      "execution_count": null,
      "outputs": [
        {
          "output_type": "stream",
          "name": "stdout",
          "text": [
            "Kolom: Customer ID\n",
            "Customer ID\n",
            "101    1\n",
            "331    1\n",
            "339    1\n",
            "338    1\n",
            "337    1\n",
            "      ..\n",
            "216    1\n",
            "215    1\n",
            "214    1\n",
            "213    1\n",
            "450    1\n",
            "Name: count, Length: 350, dtype: int64\n",
            "--------------------------------------------------\n",
            "Kolom: Gender\n",
            "Gender\n",
            "Female    175\n",
            "Male      175\n",
            "Name: count, dtype: int64\n",
            "--------------------------------------------------\n",
            "Kolom: Age\n",
            "Age\n",
            "30    48\n",
            "32    33\n",
            "43    25\n",
            "27    25\n",
            "31    25\n",
            "35    25\n",
            "36    25\n",
            "34    24\n",
            "37    24\n",
            "41    24\n",
            "28    24\n",
            "29    11\n",
            "33    10\n",
            "42     9\n",
            "26     9\n",
            "38     9\n",
            "Name: count, dtype: int64\n",
            "--------------------------------------------------\n",
            "Kolom: City\n",
            "City\n",
            "New York         59\n",
            "Los Angeles      59\n",
            "Chicago          58\n",
            "San Francisco    58\n",
            "Miami            58\n",
            "Houston          58\n",
            "Name: count, dtype: int64\n",
            "--------------------------------------------------\n",
            "Kolom: Membership Type\n",
            "Membership Type\n",
            "Gold      117\n",
            "Silver    117\n",
            "Bronze    116\n",
            "Name: count, dtype: int64\n",
            "--------------------------------------------------\n",
            "Kolom: Total Spend\n",
            "Total Spend\n",
            "710.40     15\n",
            "505.75     12\n",
            "470.50     12\n",
            "430.80     12\n",
            "820.90     12\n",
            "           ..\n",
            "530.40      1\n",
            "1360.20     1\n",
            "700.60      1\n",
            "450.90      1\n",
            "1120.20     1\n",
            "Name: count, Length: 76, dtype: int64\n",
            "--------------------------------------------------\n",
            "Kolom: Items Purchased\n",
            "Items Purchased\n",
            "10    47\n",
            "9     34\n",
            "8     33\n",
            "12    33\n",
            "13    32\n",
            "11    28\n",
            "7     25\n",
            "15    24\n",
            "21    24\n",
            "16    24\n",
            "20    19\n",
            "14    11\n",
            "18     9\n",
            "19     6\n",
            "17     1\n",
            "Name: count, dtype: int64\n",
            "--------------------------------------------------\n",
            "Kolom: Average Rating\n",
            "Average Rating\n",
            "4.1    34\n",
            "4.5    31\n",
            "3.3    25\n",
            "3.8    24\n",
            "4.9    24\n",
            "3.6    24\n",
            "4.7    22\n",
            "4.8    21\n",
            "4.3    20\n",
            "3.4    19\n",
            "4.0    18\n",
            "3.1    17\n",
            "4.2    12\n",
            "3.0    12\n",
            "4.6    11\n",
            "3.2    10\n",
            "3.5     9\n",
            "4.4     8\n",
            "3.9     8\n",
            "3.7     1\n",
            "Name: count, dtype: int64\n",
            "--------------------------------------------------\n",
            "Kolom: Discount Applied\n",
            "Discount Applied\n",
            "True     175\n",
            "False    175\n",
            "Name: count, dtype: int64\n",
            "--------------------------------------------------\n",
            "Kolom: Days Since Last Purchase\n",
            "Days Since Last Purchase\n",
            "13    20\n",
            "12    17\n",
            "10    17\n",
            "19    16\n",
            "39    16\n",
            "14    13\n",
            "18    12\n",
            "23    11\n",
            "22    11\n",
            "15    11\n",
            "24    11\n",
            "20    11\n",
            "21    10\n",
            "17    10\n",
            "27    10\n",
            "9      9\n",
            "38     9\n",
            "47     9\n",
            "40     9\n",
            "26     9\n",
            "32     9\n",
            "37     8\n",
            "33     8\n",
            "54     8\n",
            "25     6\n",
            "11     6\n",
            "28     6\n",
            "53     5\n",
            "16     5\n",
            "41     4\n",
            "42     4\n",
            "46     3\n",
            "35     3\n",
            "34     3\n",
            "48     3\n",
            "29     3\n",
            "55     2\n",
            "45     2\n",
            "30     2\n",
            "36     2\n",
            "43     2\n",
            "31     2\n",
            "44     2\n",
            "63     1\n",
            "62     1\n",
            "61     1\n",
            "60     1\n",
            "56     1\n",
            "59     1\n",
            "58     1\n",
            "57     1\n",
            "52     1\n",
            "50     1\n",
            "49     1\n",
            "Name: count, dtype: int64\n",
            "--------------------------------------------------\n",
            "Kolom: Satisfaction Level\n",
            "Satisfaction Level\n",
            "Satisfied      127\n",
            "Unsatisfied    116\n",
            "Neutral        107\n",
            "Name: count, dtype: int64\n",
            "--------------------------------------------------\n",
            "cek ini cuashduiosadhasouidas\n",
            "\n",
            "Gender:\n",
            "Gender\n",
            "Female    175\n",
            "Male      175\n",
            "Name: count, dtype: int64\n",
            "cek ini cuashduiosadhasouidas\n",
            "\n",
            "City:\n",
            "City\n",
            "New York         59\n",
            "Los Angeles      59\n",
            "Chicago          58\n",
            "San Francisco    58\n",
            "Miami            58\n",
            "Houston          58\n",
            "Name: count, dtype: int64\n",
            "cek ini cuashduiosadhasouidas\n",
            "\n",
            "Membership Type:\n",
            "Membership Type\n",
            "Gold      117\n",
            "Silver    117\n",
            "Bronze    116\n",
            "Name: count, dtype: int64\n",
            "cek ini cuashduiosadhasouidas\n",
            "\n",
            "Satisfaction Level:\n",
            "Satisfaction Level\n",
            "Satisfied      127\n",
            "Unsatisfied    116\n",
            "Neutral        107\n",
            "Name: count, dtype: int64\n"
          ]
        }
      ]
    },
    {
      "cell_type": "markdown",
      "source": [
        "Ketika dilakukan pengecekan inconsistent value dengan menampilkan data yang ada kemudian dengan menampilkan dtypes dari tiap kolom, dapat terlihat ketika menampilkan dtypes, dari tiap kolom hasilnya hanya memiliki \"satu tipe data\" dan tidak ada kolom yang terdapat 2 tipe data, sehingga dapat dipastikan bahwa value nya sudah konsisten karena tiap kolom hanya terdapat 1 tipe data."
      ],
      "metadata": {
        "id": "nY1ZF7TPolXY"
      }
    }
  ]
}